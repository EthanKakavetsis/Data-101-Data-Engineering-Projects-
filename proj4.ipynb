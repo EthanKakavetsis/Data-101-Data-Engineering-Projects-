{
 "cells": [
  {
   "cell_type": "code",
   "execution_count": 50,
   "metadata": {
    "deletable": false,
    "editable": false
   },
   "outputs": [],
   "source": [
    "# Initialize Otter\n",
    "import otter\n",
    "grader = otter.Notebook(\"proj4.ipynb\")"
   ]
  },
  {
   "cell_type": "markdown",
   "metadata": {},
   "source": [
    "# Project 4: Mongo \n",
    "\n",
    "## Due Date: Thursday 4/24, 5:00 PM\n",
    "\n",
    "In this project, we will be investigating how different database systems handle semi-structured JSON data. In particular, we will be placing emphasis on the use of MongoDB: a database system that stores data in a construct known as documents. These documents are very similar to the JSON objects we've explored in lecture, with a few differences in representation and indexing that we will explore in the following questions. \n",
    "\n",
    "In this project, we will be working with the **Yelp Academic Dataset** which contains a dataset of `businesses`, `reviews`, and `users`. Due to the limitations of JupyterHub and the Mongo instances we are working with, `reviews` and `users` are truncated to 7500 reviews and 1000 users. We will be using the full `businesses` dataset, however.\n",
    "\n",
    "Throughout the course of this project, you should understand what Mongo can (and cannot) do with regards to its documents as a NoSQL datastore and compare and contrast this to other data representation formats such as the relational model."
   ]
  },
  {
   "cell_type": "markdown",
   "metadata": {},
   "source": [
    "## Logistics & Scoring Breakdown\n",
    "\n",
    "Please read the submission instructions carefully and double check that your submission is not throwing any errors. Please ensure that public tests pass upon submission. It is your responsibility to wait until the autograder finishes running. We will not be accepting regrade requests for submission issues.\n",
    "\n",
    "Each coding question has **both public tests and hidden tests**. Roughly 50% of your coding grade will be made up of your score on the public tests released to you, while the remaining 50% will be made up of unreleased hidden tests. **Free-response questions (marked 'm' in the table below) are manually graded.**\n",
    "\n",
    "This is an **individual project**. However, you’re welcome to collaborate with any other student in the class as long as it’s within the academic honesty guidelines.\n",
    "\n",
    "Question | Points\n",
    "--- | ---\n",
    "1a\t| 1\n",
    "1b  | 1\n",
    "1c\t| 2\n",
    "1d\t| 1\n",
    "1e\t| 2\n",
    "1f  | 1\n",
    "2a\t| m: 2\n",
    "2b\t| 1\n",
    "2c  | 1\n",
    "2d  | m: 2\n",
    "3a\t| m: 1\n",
    "3b\t| 1\n",
    "3c\t| 1\n",
    "3d  | 1\n",
    "3e  | 1\n",
    "3f  | 3\n",
    "4a\t| 1\n",
    "4b\t| 2\n",
    "4c\t| 2\n",
    "4d  | 1\n",
    "**Total** | 28\n",
    "\n",
    "**Grand Total:** 28 points (autograded: 23, manual: 5) "
   ]
  },
  {
   "cell_type": "markdown",
   "metadata": {},
   "source": [
    "## Loading Up Mongo\n",
    "We will be using Pymongo, a Python wrapper for MongoDB, for this project. Every student should have access to their own MongoDB instance, running on the localhost of your Datahub server. After running the following cell, for the rest of the project, you can use the Python variables business, review, and user to access the corresponding collection.\n",
    "\n",
    "To prevent bracket mismatches while creating your queries, it is recommended to **turn on \"Auto Close Brackets\"** via Settings in JupyterHub.\n",
    "Furthermore, since we are using Python dictionaries as our query filter, make sure to wrap all keys and values inside quotes."
   ]
  },
  {
   "cell_type": "code",
   "execution_count": 51,
   "metadata": {
    "scrolled": true
   },
   "outputs": [],
   "source": [
    "import pickle\n",
    "import pandas as pd\n",
    "import pymongo\n",
    "from pymongo import TEXT\n",
    "import numpy as np\n",
    "\n",
    "myclient = pymongo.MongoClient(\"mongodb://localhost\")\n",
    "mydb = myclient[\"yelp\"]\n",
    "business = mydb[\"business\"]\n",
    "review = mydb[\"review\"]\n",
    "user = mydb[\"user\"]"
   ]
  },
  {
   "cell_type": "markdown",
   "metadata": {},
   "source": [
    "## Troubleshooting\n",
    "\n",
    "**PLEASE READ:** Please avoid printing too much debugging query output—it may crash your Jupyter Hub if your file size becomes too large! It's recommended to use the `limit()` method and delete any debugging query cells if no longer needed as you go through the project.\n",
    "\n",
    "You might run into issues on the project where you are certain your code works but the output is incorrect. This may be because your collections have been corrupted. Run the following cell and uncomment the specific collections you would like to drop if you would like to remake your collections from scratch. **Be sure to re-run the Load Datasets cells below if you drop your collections so you aren't working with empty collections!**"
   ]
  },
  {
   "cell_type": "code",
   "execution_count": 52,
   "metadata": {},
   "outputs": [],
   "source": [
    "# UNCOMMENT AND RUN THIS CELL IF YOU WOULD LIKE TO REMAKE YOUR COLLECTIONS FROM SCRATCH. \n",
    "# IF YOU DROP ANY COLLECTIONS, RE-RUN THE NEXT TWO CELLS TO LOAD IN THE DATA.\n",
    "\n",
    "# review.drop()\n",
    "# business.drop()\n",
    "# user.drop()"
   ]
  },
  {
   "cell_type": "markdown",
   "metadata": {},
   "source": [
    "## Load Datasets\n",
    "The following 2 cells will load the JSON datasets into the appropriate Mongo collections. You will only need to run them once unless you drop the collections above. The second cell **may take a couple of minutes to run** if you are running it for the first time or are running it after you dropped the collections."
   ]
  },
  {
   "cell_type": "code",
   "execution_count": 53,
   "metadata": {},
   "outputs": [],
   "source": [
    "import zipfile\n",
    "import os.path\n",
    "\n",
    "if not os.path.isfile('data/yelp_academic_dataset_review.json'):\n",
    "    with zipfile.ZipFile('data/yelp_academic_dataset_review.json.zip', 'r') as zip_ref:\n",
    "        zip_ref.extractall('data')\n",
    "\n",
    "if not os.path.isfile('data/yelp_academic_dataset_user.json'):\n",
    "    with zipfile.ZipFile('data/yelp_academic_dataset_user.json.zip', 'r') as zip_ref:\n",
    "        zip_ref.extractall('data')\n",
    "\n",
    "if not os.path.isfile('data/yelp_academic_dataset_business.json'):\n",
    "    with zipfile.ZipFile('data/yelp_academic_dataset_business.json.zip', 'r') as zip_ref:\n",
    "        zip_ref.extractall('data')"
   ]
  },
  {
   "cell_type": "code",
   "execution_count": 54,
   "metadata": {
    "scrolled": true
   },
   "outputs": [],
   "source": [
    "# THIS CELL MAY TAKE AT MOST 5 MINUTES. BUT HOPEFULLY YOU WILL ONLY NEED TO RUN IT ONCE.\n",
    "import json\n",
    "\n",
    "if business.count_documents({}) == 0:\n",
    "    print(\"Loading business collection...\")\n",
    "    with open('data/yelp_academic_dataset_business.json', encoding='utf-8') as f:\n",
    "        for line in f:\n",
    "            business.insert_one(json.loads(line))\n",
    "\n",
    "if review.count_documents({}) == 0:\n",
    "    print(\"Loading review collection...\")\n",
    "    with open('data/yelp_academic_dataset_review.json', encoding='utf-8') as f:\n",
    "        for line in f:\n",
    "            review.insert_one(json.loads(line))\n",
    "            \n",
    "if user.count_documents({}) == 0:\n",
    "    print(\"Loading user collection...\")\n",
    "    with open('data/yelp_academic_dataset_user.json', encoding='utf-8') as f:\n",
    "        for line in f:\n",
    "            user.insert_one(json.loads(line))"
   ]
  },
  {
   "cell_type": "markdown",
   "metadata": {},
   "source": [
    "Let's take a quick look at our collections. For the command below, replace `user` with `review` or `business` to count the number of documents in each collection."
   ]
  },
  {
   "cell_type": "code",
   "execution_count": 55,
   "metadata": {
    "scrolled": true
   },
   "outputs": [
    {
     "data": {
      "text/plain": [
       "1000"
      ]
     },
     "execution_count": 55,
     "metadata": {},
     "output_type": "execute_result"
    }
   ],
   "source": [
    "user.count_documents({})"
   ]
  },
  {
   "cell_type": "markdown",
   "metadata": {},
   "source": [
    "Now let's inspect our collections. Replace `business` with `review` and `user` to see the first document in each collection."
   ]
  },
  {
   "cell_type": "code",
   "execution_count": 56,
   "metadata": {},
   "outputs": [
    {
     "data": {
      "text/plain": [
       "{'_id': ObjectId('6627cd9c7ff727a30de5493e'),\n",
       " 'review_id': 'lWC-xP3rd6obsecCYsGZRg',\n",
       " 'user_id': 'ak0TdVmGKo4pwqdJSTLwWw',\n",
       " 'business_id': 'buF9druCkbuXLX526sGELQ',\n",
       " 'stars': 4.0,\n",
       " 'useful': 3,\n",
       " 'funny': 1,\n",
       " 'cool': 1,\n",
       " 'text': \"Apparently Prides Osteria had a rough summer as evidenced by the almost empty dining room at 6:30 on a Friday night. However new blood in the kitchen seems to have revitalized the food from other customers recent visits. Waitstaff was warm but unobtrusive. By 8 pm or so when we left the bar was full and the dining room was much more lively than it had been. Perhaps Beverly residents prefer a later seating. \\n\\nAfter reading the mixed reviews of late I was a little tentative over our choice but luckily there was nothing to worry about in the food department. We started with the fried dough, burrata and prosciutto which were all lovely. Then although they don't offer half portions of pasta we each ordered the entree size and split them. We chose the tagliatelle bolognese and a four cheese filled pasta in a creamy sauce with bacon, asparagus and grana frita. Both were very good. We split a secondi which was the special Berkshire pork secreto, which was described as a pork skirt steak with garlic potato purée and romanesco broccoli (incorrectly described as a romanesco sauce). Some tables received bread before the meal but for some reason we did not. \\n\\nManagement also seems capable for when the tenants in the apartment above began playing basketball she intervened and also comped the tables a dessert. We ordered the apple dumpling with gelato and it was also quite tasty. Portions are not huge which I particularly like because I prefer to order courses. If you are someone who orders just a meal you may leave hungry depending on you appetite. Dining room was mostly younger crowd while the bar was definitely the over 40 set. Would recommend that the naysayers return to see the improvement although I personally don't know the former glory to be able to compare. Easy access to downtown Salem without the crowds on this month of October.\",\n",
       " 'date': '2014-10-11 03:34:02'}"
      ]
     },
     "execution_count": 56,
     "metadata": {},
     "output_type": "execute_result"
    }
   ],
   "source": [
    "review.find_one()"
   ]
  },
  {
   "cell_type": "markdown",
   "metadata": {},
   "source": [
    "If you see a document containing a business named `Oskar Blues Taproom` when you run the command above, it means that our JSON data has successfully been imported into the collection! Now we can get started with exploring Mongo in a bit more detail."
   ]
  },
  {
   "cell_type": "markdown",
   "metadata": {},
   "source": [
    "## Connect to the grader"
   ]
  },
  {
   "cell_type": "markdown",
   "metadata": {},
   "source": [
    "Run the following cell for grading purposes."
   ]
  },
  {
   "cell_type": "code",
   "execution_count": 57,
   "metadata": {},
   "outputs": [],
   "source": [
    "# Just run the following cell, no further action is needed.\n",
    "from data101_utils import GradingUtil\n",
    "grading_util = GradingUtil(\"proj4\")\n",
    "grading_util.prepare_autograder()"
   ]
  },
  {
   "cell_type": "code",
   "execution_count": 58,
   "metadata": {},
   "outputs": [],
   "source": [
    "# Do not delete/edit this cell\n",
    "import pickle\n",
    "import pandas as pd"
   ]
  },
  {
   "cell_type": "markdown",
   "metadata": {},
   "source": [
    "<hr style=\"border: 5px solid #003262;\" />\n",
    "<hr style=\"border: 1px solid #fdb515;\" />\n",
    "\n",
    "## Question 1: Basic MQL\n",
    "\n",
    "### Question 1a\n",
    "\n",
    "In lecture, we discussed how one could find specific attributes from a JSON object using dot (`.`) notation. \n",
    "\n",
    "- While you can still use the dot notation in queries, PyMongo represents documents returned from Mongo queries using Python dictionaries, making it convenient to manipulate JSON using a mix of Mongo queries and array indexing. Specifically, given the result of a retrieval `find` query, you can look up the third document by indexing with `[2]`. Note, since we are using Python dictionaries, we will be using 0-based indexing. Then, given this document, you can look up the field `'amount'` by appending `['amount']` etc., adding multiple square brackets as needed to \"walk down\" the JSON tree representation via `collection.find(...)[2]['amount']`. This will return the 'amount' field from the 3rd document returned from the query. This combination of query and indexing will be useful in obtaining the necessary information you need for this and other questions.\n",
    "  \n",
    "- In order to get a visual output of the query results, you will need to wrap `collection.find(...)` inside `list()`, e.g. `list(collection.find(...))`. This is because `collection.find(...)` returns a **Cursor** object, which is an iterator. **An important consequence** is that if we set `result = collection.find(...)`, then calling `list(result)` for the first time will get you the expected list of documents in the query result, but calling `list(result)` for a second time will give you an empty list! So wrapping `collection.find(...)` directly inside `list()` would avoid this issue. With that in mind, you may not *always* need to obtain a visual output of the results.\n",
    "  \n",
    "- Be aware of the distinction of when you are querying with Mongo versus Python-based array indexing into your Mongo query results (i.e. you are wrapping your query inside `list()` and *then* indexing into that list. This is Python-based indexing.)\n",
    "  \n",
    "- **As a reminder, since we are using Python dictionaries as our query filter, make sure to wrap all keys and values inside quotes. Otherwise, errors will occur.**\n",
    "\n",
    "As a warmup to get you familiarized with PyMongo syntax in combination with Python-based array indexing, find the **Tuesday hours** for the restaurant named **Legal Sea Foods** at **100 Huntington Ave** in **Boston**. Be careful—there are many Legal Sea Foods in Boston!"
   ]
  },
  {
   "cell_type": "code",
   "execution_count": 59,
   "metadata": {
    "scrolled": true,
    "tags": []
   },
   "outputs": [
    {
     "data": {
      "text/plain": [
       "'12:0-21:0'"
      ]
     },
     "execution_count": 59,
     "metadata": {},
     "output_type": "execute_result"
    }
   ],
   "source": [
    "query = {\"name\": \"Legal Sea Foods\", \"address\": \"100 Huntington Ave\", \"city\": \"Boston\"}\n",
    "result_1a = list(business.find(query, {'hours.Tuesday' : 1}))[0]['hours']['Tuesday']\n",
    "result_1a"
   ]
  },
  {
   "cell_type": "code",
   "execution_count": 60,
   "metadata": {
    "tags": []
   },
   "outputs": [],
   "source": [
    "# Do not delete/edit this cell!\n",
    "# You must run this cell before running the autograder.\n",
    "grading_util.save_results(\"result_1a\", result_1a);"
   ]
  },
  {
   "cell_type": "code",
   "execution_count": 61,
   "metadata": {
    "deletable": false,
    "editable": false
   },
   "outputs": [
    {
     "data": {
      "text/html": [
       "<p><strong><pre style='display: inline;'>q1a</pre></strong> passed! ✨</p>"
      ],
      "text/plain": [
       "q1a results: All test cases passed!"
      ]
     },
     "execution_count": 61,
     "metadata": {},
     "output_type": "execute_result"
    }
   ],
   "source": [
    "grader.check(\"q1a\")"
   ]
  },
  {
   "cell_type": "markdown",
   "metadata": {},
   "source": [
    "<br>\n",
    "\n",
    "---\n",
    "\n",
    "### Question 1b\n",
    "Now let's get some practice with aggregation and filtering. Our goal is to write a query that computes the average star rating for all businesses in Colorado with 30 reviews or greater. However, this won't be as easy as setting the state to CO! If we inspect this dataset more closely, we will notice that some cities are not matched up with the right states. As an example, run the query below."
   ]
  },
  {
   "cell_type": "code",
   "execution_count": 62,
   "metadata": {},
   "outputs": [
    {
     "data": {
      "text/plain": [
       "[{'_id': ObjectId('6627cd6c7ff727a30de2dd10'),\n",
       "  'business_id': 'SNCRnaSy6E5fHgQuoCmmbQ',\n",
       "  'name': 'Katia Photography',\n",
       "  'address': '',\n",
       "  'city': 'Portland',\n",
       "  'state': 'CA',\n",
       "  'postal_code': '97007',\n",
       "  'latitude': 45.4501529,\n",
       "  'longitude': -122.8849111,\n",
       "  'stars': 5.0,\n",
       "  'review_count': 11,\n",
       "  'is_open': 1,\n",
       "  'attributes': {'BusinessAcceptsBitcoin': 'False',\n",
       "   'BusinessAcceptsCreditCards': 'True',\n",
       "   'WiFi': \"u'no'\"},\n",
       "  'categories': 'Shopping, Clothing Rental, Event Planning & Services, Fashion, Event Photography, Photographers, Session Photography',\n",
       "  'hours': {'Monday': '8:0-22:0',\n",
       "   'Tuesday': '8:0-22:0',\n",
       "   'Wednesday': '8:0-22:0',\n",
       "   'Thursday': '8:0-22:0',\n",
       "   'Friday': '8:0-22:0',\n",
       "   'Saturday': '8:0-22:0',\n",
       "   'Sunday': '8:0-22:0'}},\n",
       " {'_id': ObjectId('6627cd747ff727a30de34d7c'),\n",
       "  'business_id': 'cjwnQMQOGOYgB5uNmiYWLA',\n",
       "  'name': 'Verizon Authorized Retailer - GoWireless',\n",
       "  'address': '4655 SW Griffith Dr, Ste 125',\n",
       "  'city': 'Beaverton',\n",
       "  'state': 'CA',\n",
       "  'postal_code': '97005',\n",
       "  'latitude': 45.486312,\n",
       "  'longitude': -122.796487,\n",
       "  'stars': 2.5,\n",
       "  'review_count': 9,\n",
       "  'is_open': 0,\n",
       "  'attributes': {'BusinessAcceptsCreditCards': 'True',\n",
       "   'BusinessParking': 'None',\n",
       "   'ByAppointmentOnly': 'False',\n",
       "   'BikeParking': 'True'},\n",
       "  'categories': 'Mobile Phones, Telecommunications, Shopping, Home Services, IT Services & Computer Repair, Internet Service Providers, Local Services, Professional Services, Mobile Phone Accessories, Electronics',\n",
       "  'hours': {'Monday': '0:0-0:0',\n",
       "   'Tuesday': '10:0-18:0',\n",
       "   'Wednesday': '10:0-18:0',\n",
       "   'Thursday': '10:0-18:0',\n",
       "   'Friday': '10:0-18:0',\n",
       "   'Saturday': '10:0-18:0',\n",
       "   'Sunday': '11:0-18:0'}},\n",
       " {'_id': ObjectId('6627cd797ff727a30de39063'),\n",
       "  'business_id': 'l92RJMHpxZgJl7FQuqpW6w',\n",
       "  'name': 'Here We Grow',\n",
       "  'address': '',\n",
       "  'city': 'Atlanta',\n",
       "  'state': 'CA',\n",
       "  'postal_code': '30345',\n",
       "  'latitude': 33.8484195,\n",
       "  'longitude': -84.2858121,\n",
       "  'stars': 5.0,\n",
       "  'review_count': 6,\n",
       "  'is_open': 1,\n",
       "  'attributes': {'GoodForKids': 'True'},\n",
       "  'categories': 'Childbirth Education, Specialty Schools, Preschools, Adult Education, Parenting Classes, Education, Active Life, Kids Activities',\n",
       "  'hours': {'Tuesday': '9:0-17:0',\n",
       "   'Thursday': '9:0-17:0',\n",
       "   'Saturday': '9:0-13:0',\n",
       "   'Sunday': '11:0-15:0'}}]"
      ]
     },
     "execution_count": 62,
     "metadata": {},
     "output_type": "execute_result"
    }
   ],
   "source": [
    "list(business.find({\"state\": \"CA\"}).limit(3))"
   ]
  },
  {
   "cell_type": "markdown",
   "metadata": {},
   "source": [
    "Notice how cities like Portland and Atlanta, and Orlando are classified as California cities! However, the latitude and longitude is generally correct. The latitude of Colorado is between 37 and 41 **inclusive** and the longitude is between -109 and -102 **inclusive**. Now, use this to **find the average star rating** of all businesses in this range with **30 or more reviews**.\n",
    "\n",
    "Recall that in SQL, we would use a GROUP BY with the AVG aggregation function. In Mongo, we use an aggregation pipeline [(documentation here)](https://www.mongodb.com/docs/manual/reference/method/db.collection.aggregate/), comprised of multiple stages (e.g., `$match` followed by `$group`). Each stage transforms the documents in some way. Pipeline stages do not need to produce one output document for every input document. For example, some stages may generate new documents or filter out documents.\n",
    "\n",
    "**Hints:**\n",
    "- As in the previous question, you may find it helpful to use the PyMongo array notation to extract the pertinent information/document once you have composed the right Mongo aggregation query. You are required to wrap `collection.aggregate(...)` inside `list()`, e.g. `list(collection.aggregate(...))` before indexing / visualizing the output. Similar to `collection.find(...)`, `collection.aggregate(...)` also returns a **Cursor** object (which is an iterator).\n",
    "\n",
    "- You can set multiple conditions for a given field within the same object, e.g. `{\"$gte\": 0, \"$lte\": 10}`. This is the recommended approach, or else you may need to worry about the ordering between the conditions."
   ]
  },
  {
   "cell_type": "code",
   "execution_count": 63,
   "metadata": {
    "scrolled": true,
    "tags": []
   },
   "outputs": [
    {
     "data": {
      "text/plain": [
       "3.6735412474849096"
      ]
     },
     "execution_count": 63,
     "metadata": {},
     "output_type": "execute_result"
    }
   ],
   "source": [
    "pipeline = [\n",
    "    {\n",
    "        \"$match\": {\n",
    "            \"latitude\": {\"$gte\": 37, \"$lte\": 41},\n",
    "            \"longitude\": {\"$gte\": -109, \"$lte\": -102},\n",
    "            \"review_count\": {\"$gte\": 30}\n",
    "        }\n",
    "    },\n",
    "    {\n",
    "        \"$group\": {\n",
    "            \"_id\": None,  # Group all documents together (since we want the average across all, not per group)\n",
    "            \"average_stars\": {\"$avg\": \"$stars\"}\n",
    "        }\n",
    "    }\n",
    "]\n",
    "\n",
    "result_1b = list(business.aggregate(pipeline))[0]['average_stars']\n",
    "result_1b"
   ]
  },
  {
   "cell_type": "code",
   "execution_count": 64,
   "metadata": {
    "tags": []
   },
   "outputs": [],
   "source": [
    "# Do not delete/edit this cell!\n",
    "# You must run this cell before running the autograder.\n",
    "grading_util.save_results(\"result_1b\", result_1b);"
   ]
  },
  {
   "cell_type": "code",
   "execution_count": 65,
   "metadata": {
    "deletable": false,
    "editable": false
   },
   "outputs": [
    {
     "data": {
      "text/html": [
       "<p><strong><pre style='display: inline;'>q1b</pre></strong> passed! 🌈</p>"
      ],
      "text/plain": [
       "q1b results: All test cases passed!"
      ]
     },
     "execution_count": 65,
     "metadata": {},
     "output_type": "execute_result"
    }
   ],
   "source": [
    "grader.check(\"q1b\")"
   ]
  },
  {
   "cell_type": "markdown",
   "metadata": {},
   "source": [
    "<br>\n",
    "\n",
    "---\n",
    "### Question 1c\n",
    "\n",
    "In this question, we will explore aggregation and grouping further. We will also make use of the `$project` operator which allows us to output documents with certain fields of our choosing. \n",
    "\n",
    "For this question, we would like to create an aggregation pipeline to find the town in each state with the highest average number of stars. **We will only consider towns with greater than or equal to 5 reviews in total across all the businesses in that town so that the average is meaningful (i.e. there should be at least 5 reviews in that city).** Your final output should contain exactly two fields:\n",
    "- `averageStars` which contains the average number of stars for the corresponding town.\n",
    "- `city_state` which is the name of the town with the highest value of average stars in the state concatenated with a comma followed by the state initials\n",
    "\n",
    "\n",
    "To ensure your output is consistent with the autograder, **sort in descending order by `averageStars` and break ties by sorting second on `city_state` in alphabetical (ascending) order.** This is real-world data and may be messy and filled with typos, including your output. However, there is no need to data clean. You may also ignore upper and lower case discrepancies.\n",
    "\n",
    "As a concrete example, imagine that Berkeley and Austin have the highest average stars in California and Texas respectively (and both have more than or equal to 5 total reviews in this *truncated* dataset). If Berkeley and Austin both have an average star rating of 5.0, your final output should be:\n",
    "\n",
    "```\n",
    "{'averageStars': 5.0, 'city_state': 'Austin, TX'}\n",
    "{'averageStars': 5.0, 'city_state': 'Berkeley, CA'}\n",
    "```\n",
    "\n",
    "**Note:** You will provide a pipeline to `business.aggregate(...)` as your solution. Save your pipeline to `q1c_pipeline`.\n",
    "\n",
    "**Hint:** You may find the `concat` operator helpful [(documentation here)](https://docs.mongodb.com/manual/reference/operator/aggregation/concat/)."
   ]
  },
  {
   "cell_type": "code",
   "execution_count": 66,
   "metadata": {
    "tags": []
   },
   "outputs": [
    {
     "data": {
      "text/plain": [
       "[{'_id': 'VA', 'city_with_highest_stars': 'Norfolk', 'averageStars': 3.5},\n",
       " {'_id': 'WI', 'city_with_highest_stars': 'Glendale', 'averageStars': 3.5},\n",
       " {'_id': 'OR',\n",
       "  'city_with_highest_stars': 'Historic Milwaukie',\n",
       "  'averageStars': 5.0},\n",
       " {'_id': 'ON', 'city_with_highest_stars': 'Toronto', 'averageStars': 5.0},\n",
       " {'_id': 'MI', 'city_with_highest_stars': 'Jackson', 'averageStars': 3.5},\n",
       " {'_id': 'OH', 'city_with_highest_stars': 'Grove city', 'averageStars': 5.0},\n",
       " {'_id': 'NM', 'city_with_highest_stars': 'Rio Rancho', 'averageStars': 3.5},\n",
       " {'_id': 'OK',\n",
       "  'city_with_highest_stars': 'Oklahoma City',\n",
       "  'averageStars': 2.5},\n",
       " {'_id': 'NC', 'city_with_highest_stars': 'Sanford', 'averageStars': 2.5},\n",
       " {'_id': 'TX', 'city_with_highest_stars': 'Auatin', 'averageStars': 5.0},\n",
       " {'_id': 'WY', 'city_with_highest_stars': 'Sheridan', 'averageStars': 1.5},\n",
       " {'_id': 'CO', 'city_with_highest_stars': 'Jamestown', 'averageStars': 4.5},\n",
       " {'_id': 'CA', 'city_with_highest_stars': 'Atlanta', 'averageStars': 5.0},\n",
       " {'_id': 'BC', 'city_with_highest_stars': 'Vancovuer', 'averageStars': 5.0},\n",
       " {'_id': 'DC', 'city_with_highest_stars': 'Vancouver', 'averageStars': 5.0},\n",
       " {'_id': 'MA',\n",
       "  'city_with_highest_stars': 'Boston-Winthrop',\n",
       "  'averageStars': 5.0},\n",
       " {'_id': 'KY', 'city_with_highest_stars': 'Liberty', 'averageStars': 2.0},\n",
       " {'_id': 'AZ', 'city_with_highest_stars': 'Salem', 'averageStars': 4.5},\n",
       " {'_id': 'MN', 'city_with_highest_stars': 'Austin', 'averageStars': 3.5},\n",
       " {'_id': 'ME',\n",
       "  'city_with_highest_stars': 'North Reading',\n",
       "  'averageStars': 3.5},\n",
       " {'_id': 'NY', 'city_with_highest_stars': 'Kings County', 'averageStars': 5.0},\n",
       " {'_id': 'IL',\n",
       "  'city_with_highest_stars': 'Franklin Park',\n",
       "  'averageStars': 4.0},\n",
       " {'_id': 'GA', 'city_with_highest_stars': 'Atlanda', 'averageStars': 5.0},\n",
       " {'_id': 'ABE', 'city_with_highest_stars': 'Vancouver', 'averageStars': 4.5},\n",
       " {'_id': 'AL', 'city_with_highest_stars': 'Austin', 'averageStars': 2.5},\n",
       " {'_id': 'WA', 'city_with_highest_stars': 'Everett', 'averageStars': 5.0},\n",
       " {'_id': 'DE', 'city_with_highest_stars': 'Powell', 'averageStars': 4.5},\n",
       " {'_id': 'FL', 'city_with_highest_stars': 'Beuna Vista', 'averageStars': 5.0},\n",
       " {'_id': 'HI', 'city_with_highest_stars': 'Portland', 'averageStars': 4.5},\n",
       " {'_id': 'KS', 'city_with_highest_stars': 'Ellsworth', 'averageStars': 2.0},\n",
       " {'_id': 'NH', 'city_with_highest_stars': 'Hampton', 'averageStars': 4.0}]"
      ]
     },
     "execution_count": 66,
     "metadata": {},
     "output_type": "execute_result"
    }
   ],
   "source": [
    "q1c_pipeline = [\n",
    "    {\n",
    "        \"$match\": {\n",
    "            \"review_count\": {\"$gte\": 5}\n",
    "        }\n",
    "    },\n",
    "    {\n",
    "        \"$group\": {\n",
    "            \"_id\": {\n",
    "                \"city\": \"$city\",\n",
    "                \"state\": \"$state\"\n",
    "            },\n",
    "            \"averageStars\": {\"$avg\": \"$stars\"}\n",
    "        }\n",
    "    },\n",
    "    {\n",
    "        \"$sort\": {\n",
    "            \"averageStars\": -1,  # Sort by average stars descending\n",
    "            \"_id.city\": 1        # Then by city name ascending\n",
    "        }\n",
    "    },\n",
    "    {\n",
    "        \"$group\": {\n",
    "            \"_id\": \"$_id.state\",  # Regroup by state\n",
    "            \"city_with_highest_stars\": {\"$first\": \"$_id.city\"},\n",
    "            \"averageStars\": {\"$first\": \"$averageStars\"}\n",
    "        }\n",
    "    }\n",
    "]\n",
    "\n",
    "result_1c = list(business.aggregate(q1c_pipeline))\n",
    "result_1c"
   ]
  },
  {
   "cell_type": "code",
   "execution_count": 67,
   "metadata": {
    "scrolled": true,
    "tags": []
   },
   "outputs": [],
   "source": [
    "# Do not delete/edit this cell!\n",
    "# You must run this cell before running the autograder.\n",
    "grading_util.save_results(\"result_1c\", list(business.aggregate(q1c_pipeline)));"
   ]
  },
  {
   "cell_type": "code",
   "execution_count": 68,
   "metadata": {
    "deletable": false,
    "editable": false
   },
   "outputs": [
    {
     "data": {
      "text/html": [
       "<p><strong><pre style='display: inline;'>q1c</pre></strong> passed! 🙌</p>"
      ],
      "text/plain": [
       "q1c results: All test cases passed!"
      ]
     },
     "execution_count": 68,
     "metadata": {},
     "output_type": "execute_result"
    }
   ],
   "source": [
    "grader.check(\"q1c\")"
   ]
  },
  {
   "cell_type": "markdown",
   "metadata": {},
   "source": [
    "<br>\n",
    "\n",
    "---\n",
    "### Question 1d\n",
    "\n",
    "In class, we've described structured (rectangular) data as well as semi-structured data. We haven't quite covered unstructured data—this is basically free-form text. Often, in semi-structured JSON you may have unstructured text data embedded within, such as the text field in the review collection.\n",
    "\n",
    "MongoDB allows us to build a so-called **text index** to retrieve the relevant document based on keywords found in text in a predefined field. This index converts our free-form text into a structure that allows us to easily look up documents by its contents. To leverage this text search capability, we build a text index on the `text` field in the `review` collection. This has been done for you.\n",
    "\n",
    "We will then use this text index to do basic sentiment analysis and find all the restaurants we should avoid! Using the text index given, write a query to find all the reviews with \"disgusting\", \"horrible\", \"horrid\", \"gross\", \"bad\", or \"hate\". To use the text index, use the keywords `$text` and `$search` as detailed [here](https://www.mongodb.com/docs/manual/core/text-search-operators/).\n",
    "\n",
    "Fill in your query into `result_1d` to count how many reviews contain any of these 6 words.\n",
    "\n",
    "**Hint:** In general, you can count the number of documents returned by a `find` query result via `len(list(collection.find(...)))` or more simply `collection.count_documents(...)`. To count the number of documents returned by an `aggregate` query result, the best way is to directly use `len(list(collection.aggregate(...)))`."
   ]
  },
  {
   "cell_type": "code",
   "execution_count": 69,
   "metadata": {
    "scrolled": true,
    "tags": []
   },
   "outputs": [
    {
     "data": {
      "text/plain": [
       "728"
      ]
     },
     "execution_count": 69,
     "metadata": {},
     "output_type": "execute_result"
    }
   ],
   "source": [
    "# We create a text index here\n",
    "if 'text_text' not in review.index_information():\n",
    "    review.create_index([('text', TEXT)])\n",
    "query = {\n",
    "    \"$text\": {\n",
    "        \"$search\": \"disgusting,horrible horrid gross bad hate\"\n",
    "    }\n",
    "}\n",
    "\n",
    "result_1d = review.count_documents(query)\n",
    "result_1d"
   ]
  },
  {
   "cell_type": "code",
   "execution_count": 70,
   "metadata": {
    "tags": []
   },
   "outputs": [],
   "source": [
    "# Do not delete/edit this cell!\n",
    "# You must run this cell before running the autograder.\n",
    "grading_util.save_results(\"result_1d\", result_1d);"
   ]
  },
  {
   "cell_type": "code",
   "execution_count": 71,
   "metadata": {
    "deletable": false,
    "editable": false
   },
   "outputs": [
    {
     "data": {
      "text/html": [
       "<p><strong><pre style='display: inline;'>q1d</pre></strong> passed! 🙌</p>"
      ],
      "text/plain": [
       "q1d results: All test cases passed!"
      ]
     },
     "execution_count": 71,
     "metadata": {},
     "output_type": "execute_result"
    }
   ],
   "source": [
    "grader.check(\"q1d\")"
   ]
  },
  {
   "cell_type": "markdown",
   "metadata": {},
   "source": [
    "<br>\n",
    "\n",
    "---\n",
    "### Question 1e\n",
    "\n",
    "Now let's learn Mongo updates, deletions, and creation. Create a new collection called `review_boolean` which is the exact same as `reviews` EXCEPT there is a new field called `to_avoid` which is the string \"true\"  if the review `text` contains the words \"disgusting\", \"horrid\", \"horrible\", \"gross\", \"bad\", or \"hate\" and the string \"false\" if not.  \n",
    "\n",
    "This is a tricky task! We have not discussed creation, updates, or insertions in great detail during lecture but luckily, Mongo uses a similar approach to SQL.\n",
    "\n",
    "***Insertions***: In order to insert into a document, you may use the functions [review_boolean.insert_one(...)](https://docs.mongodb.com/manual/reference/method/db.collection.insertOne/) or [review_boolean.insert_many(...)](https://docs.mongodb.com/manual/reference/method/db.collection.insertMany/). These functions take in a document or a list of documents and inserts them into the collection. \n",
    "\n",
    "***Updates***: In order to update a document, you may use the functions [review_boolean.update_one(...)](https://docs.mongodb.com/manual/reference/method/db.collection.updateOne/) or [review_boolean.update_many(...)](https://docs.mongodb.com/manual/reference/method/db.collection.updateMany/). These functions take in two parameters. The first specifies which documents should be modified. If the first parameter is `{}`, this indicates that all documents should be updated. However, you can put a more specific filter here if you would like. The second parameter specifies what you would like to update your field to (the [$set](https://docs.mongodb.com/manual/reference/operator/update/set/) operator may come in handy here). Recall that in our SQL model, updates are performed as `UPDATE ... SET ... WHERE ...`. In our case, the first ellipsis corresponds to `review_boolean`, the second ellipsis corresponds to the second parameter of `update_*` where `*` can be `one` or `many`, and the third ellipsis corresponds to the first parameter of `update_*`.\n",
    "\n",
    "***Creation***: We handle creation of the collection for you. But in Pymongo, creation of a collection is as simple as writing `variable_name = db[collection_name]` where db is the the Pymongo database object variable you have already created.\n",
    "\n",
    "Some additional reminders and hints:\n",
    "- The empty collection `review_boolean` has already been created for you and is stored in the variable of the same name.\n",
    "- A text index has been created for you. You can use a similar search approach as the last question.\n",
    "- We want to start by inserting the documents from the `review` collection into the `review_boolean` collection.\n",
    "- Don't forget that in order to pass the hidden tests, the `to_avoid` field must exist for every document in `review_boolean`! The [$exists](https://www.mongodb.com/docs/manual/reference/operator/query/exists/) operator may be helpful."
   ]
  },
  {
   "cell_type": "code",
   "execution_count": 72,
   "metadata": {
    "tags": []
   },
   "outputs": [
    {
     "data": {
      "text/plain": [
       "<pymongo.results.UpdateResult at 0x7f3bac0c1e10>"
      ]
     },
     "execution_count": 72,
     "metadata": {},
     "output_type": "execute_result"
    }
   ],
   "source": [
    "review_boolean = mydb[\"review_boolean\"]\n",
    "review_boolean.drop()\n",
    "\n",
    "# We create a text index here\n",
    "if 'text_text' not in review_boolean.index_information():\n",
    "    review_boolean.create_index([('text', TEXT)])\n",
    "\n",
    "# Insert documents from reviews to review_boolean\n",
    "documents = list(review.find({}))  # Fetch all documents\n",
    "review_boolean.insert_many(documents)  # Insert into new collection\n",
    "\n",
    "# Define the negative keywords\n",
    "keywords = \"disgusting horrid horrible gross bad hate\"\n",
    "\n",
    "# Update documents to set to_avoid to 'true' or 'false'\n",
    "review_boolean.update_many(\n",
    "    {\"$text\": {\"$search\": keywords}},\n",
    "    {\"$set\": {\"to_avoid\": True}}\n",
    ")\n",
    "review_boolean.update_many(\n",
    "    {\"to_avoid\": {\"$exists\": False}},\n",
    "    {\"$set\": {\"to_avoid\": False}}\n",
    ")\n",
    "\n"
   ]
  },
  {
   "cell_type": "code",
   "execution_count": 73,
   "metadata": {
    "tags": []
   },
   "outputs": [
    {
     "name": "stdout",
     "output_type": "stream",
     "text": [
      "6772\n"
     ]
    }
   ],
   "source": [
    "review_boolean = mydb[\"review_boolean\"]\n",
    "print(review_boolean.count_documents({\"to_avoid\": False}))"
   ]
  },
  {
   "cell_type": "code",
   "execution_count": 74,
   "metadata": {
    "tags": []
   },
   "outputs": [],
   "source": [
    "# Do not delete/edit this cell!\n",
    "# You must run this cell before running the autograder.\n",
    "review_boolean = mydb[\"review_boolean\"]\n",
    "grading_util.save_results(\"result_1e\", list(review_boolean.find({}, {'_id': 0})));"
   ]
  },
  {
   "cell_type": "code",
   "execution_count": 75,
   "metadata": {
    "deletable": false,
    "editable": false
   },
   "outputs": [
    {
     "data": {
      "text/html": [
       "<p><strong><pre style='display: inline;'>q1e</pre></strong> passed! 🌈</p>"
      ],
      "text/plain": [
       "q1e results: All test cases passed!"
      ]
     },
     "execution_count": 75,
     "metadata": {},
     "output_type": "execute_result"
    }
   ],
   "source": [
    "grader.check(\"q1e\")"
   ]
  },
  {
   "cell_type": "markdown",
   "metadata": {},
   "source": [
    "<br>\n",
    "\n",
    "---\n",
    "### Question 1f\n",
    "\n",
    "Now, you had a change of heart: you decide that it's unfair to label restaurants as `to_avoid` without at least giving them a chance! Remove the `to_avoid` field from the `review_boolean` collection. Calculate the `difference` between the data size of `review_boolean` with the `to_avoid` field and without it. The code for making this calculation is provided but it is up to you to actually remove the field.\n",
    "\n",
    "*Deletions*: Deletions in Mongo make use of the `review_boolean.update_one(...)` or `review_boolean.update_many(...)` functionality discussed in Question 1e. However, this time, instead of using the `$set` operator which allows for the creation of new fields, we will use the [$unset](https://docs.mongodb.com/manual/reference/operator/update/unset/) operator which deletes them! Very tidy!\n",
    "\n",
    "**Before running the next cell, make sure to re-run your cell for 1e so you don't get a difference of 0!**"
   ]
  },
  {
   "cell_type": "code",
   "execution_count": 76,
   "metadata": {
    "tags": []
   },
   "outputs": [
    {
     "data": {
      "text/plain": [
       "82500"
      ]
     },
     "execution_count": 76,
     "metadata": {},
     "output_type": "execute_result"
    }
   ],
   "source": [
    "with_avoid = mydb.command(\"collstats\", \"review_boolean\")['size']\n",
    "\n",
    "# Remove the 'to_avoid' field\n",
    "review_boolean.update_many({}, {\"$unset\": {\"to_avoid\": \"\"}})\n",
    "\n",
    "without_avoid = mydb.command(\"collstats\", \"review_boolean\")['size']\n",
    "difference = with_avoid - without_avoid\n",
    "difference"
   ]
  },
  {
   "cell_type": "code",
   "execution_count": 77,
   "metadata": {
    "tags": []
   },
   "outputs": [],
   "source": [
    "# Do not delete/edit this cell!\n",
    "# You must run this cell before running the autograder.\n",
    "grading_util.save_results(\"result_1f\", difference);"
   ]
  },
  {
   "cell_type": "code",
   "execution_count": 78,
   "metadata": {
    "deletable": false,
    "editable": false
   },
   "outputs": [
    {
     "data": {
      "text/html": [
       "<p><strong><pre style='display: inline;'>q1f</pre></strong> passed! 🎉</p>"
      ],
      "text/plain": [
       "q1f results: All test cases passed!"
      ]
     },
     "execution_count": 78,
     "metadata": {},
     "output_type": "execute_result"
    }
   ],
   "source": [
    "grader.check(\"q1f\")"
   ]
  },
  {
   "cell_type": "markdown",
   "metadata": {},
   "source": [
    "<hr style=\"border: 5px solid #003262;\" />\n",
    "<hr style=\"border: 1px solid #fdb515;\" />\n",
    "\n",
    "## Question 2: JSON and Relational Models\n",
    "\n",
    "### Question 2a\n",
    "\n",
    "Now we have a good idea of how to do retrieval, aggregation, and updates in Mongo. But we haven't talked about why we\n",
    "would want to use Mongo to store JSON! In order to explore this, let's take another look at the `business`\n",
    "collection. We will look at the first two entries."
   ]
  },
  {
   "cell_type": "code",
   "execution_count": 79,
   "metadata": {},
   "outputs": [
    {
     "data": {
      "text/plain": [
       "[{'_id': ObjectId('6627cd6c7ff727a30de2d5f5'),\n",
       "  'business_id': '6iYb2HFDywm3zjuRg0shjw',\n",
       "  'name': 'Oskar Blues Taproom',\n",
       "  'address': '921 Pearl St',\n",
       "  'city': 'Boulder',\n",
       "  'state': 'CO',\n",
       "  'postal_code': '80302',\n",
       "  'latitude': 40.0175444,\n",
       "  'longitude': -105.2833481,\n",
       "  'stars': 4.0,\n",
       "  'review_count': 86,\n",
       "  'is_open': 1,\n",
       "  'attributes': {'RestaurantsTableService': 'True',\n",
       "   'WiFi': \"u'free'\",\n",
       "   'BikeParking': 'True',\n",
       "   'BusinessParking': \"{'garage': False, 'street': True, 'validated': False, 'lot': False, 'valet': False}\",\n",
       "   'BusinessAcceptsCreditCards': 'True',\n",
       "   'RestaurantsReservations': 'False',\n",
       "   'WheelchairAccessible': 'True',\n",
       "   'Caters': 'True',\n",
       "   'OutdoorSeating': 'True',\n",
       "   'RestaurantsGoodForGroups': 'True',\n",
       "   'HappyHour': 'True',\n",
       "   'BusinessAcceptsBitcoin': 'False',\n",
       "   'RestaurantsPriceRange2': '2',\n",
       "   'Ambience': \"{'touristy': False, 'hipster': False, 'romantic': False, 'divey': False, 'intimate': False, 'trendy': False, 'upscale': False, 'classy': False, 'casual': True}\",\n",
       "   'HasTV': 'True',\n",
       "   'Alcohol': \"'beer_and_wine'\",\n",
       "   'GoodForMeal': \"{'dessert': False, 'latenight': False, 'lunch': False, 'dinner': False, 'brunch': False, 'breakfast': False}\",\n",
       "   'DogsAllowed': 'False',\n",
       "   'RestaurantsTakeOut': 'True',\n",
       "   'NoiseLevel': \"u'average'\",\n",
       "   'RestaurantsAttire': \"'casual'\",\n",
       "   'RestaurantsDelivery': 'None'},\n",
       "  'categories': 'Gastropubs, Food, Beer Gardens, Restaurants, Bars, American (Traditional), Beer Bar, Nightlife, Breweries',\n",
       "  'hours': {'Monday': '11:0-23:0',\n",
       "   'Tuesday': '11:0-23:0',\n",
       "   'Wednesday': '11:0-23:0',\n",
       "   'Thursday': '11:0-23:0',\n",
       "   'Friday': '11:0-23:0',\n",
       "   'Saturday': '11:0-23:0',\n",
       "   'Sunday': '11:0-23:0'}},\n",
       " {'_id': ObjectId('6627cd6c7ff727a30de2d5f6'),\n",
       "  'business_id': 'tCbdrRPZA0oiIYSmHG3J0w',\n",
       "  'name': 'Flying Elephants at PDX',\n",
       "  'address': '7000 NE Airport Way',\n",
       "  'city': 'Portland',\n",
       "  'state': 'OR',\n",
       "  'postal_code': '97218',\n",
       "  'latitude': 45.5889058992,\n",
       "  'longitude': -122.5933307507,\n",
       "  'stars': 4.0,\n",
       "  'review_count': 126,\n",
       "  'is_open': 1,\n",
       "  'attributes': {'RestaurantsTakeOut': 'True',\n",
       "   'RestaurantsAttire': \"u'casual'\",\n",
       "   'GoodForKids': 'True',\n",
       "   'BikeParking': 'False',\n",
       "   'OutdoorSeating': 'False',\n",
       "   'Ambience': \"{'romantic': False, 'intimate': False, 'touristy': False, 'hipster': False, 'divey': False, 'classy': False, 'trendy': False, 'upscale': False, 'casual': True}\",\n",
       "   'Caters': 'True',\n",
       "   'RestaurantsReservations': 'False',\n",
       "   'RestaurantsDelivery': 'False',\n",
       "   'HasTV': 'False',\n",
       "   'RestaurantsGoodForGroups': 'False',\n",
       "   'BusinessAcceptsCreditCards': 'True',\n",
       "   'NoiseLevel': \"u'average'\",\n",
       "   'ByAppointmentOnly': 'False',\n",
       "   'RestaurantsPriceRange2': '2',\n",
       "   'WiFi': \"u'free'\",\n",
       "   'BusinessParking': \"{'garage': True, 'street': False, 'validated': False, 'lot': False, 'valet': False}\",\n",
       "   'Alcohol': \"u'beer_and_wine'\",\n",
       "   'GoodForMeal': \"{'dessert': False, 'latenight': False, 'lunch': True, 'dinner': False, 'brunch': False, 'breakfast': True}\"},\n",
       "  'categories': 'Salad, Soup, Sandwiches, Delis, Restaurants, Cafes, Vegetarian',\n",
       "  'hours': {'Monday': '5:0-18:0',\n",
       "   'Tuesday': '5:0-17:0',\n",
       "   'Wednesday': '5:0-18:0',\n",
       "   'Thursday': '5:0-18:0',\n",
       "   'Friday': '5:0-18:0',\n",
       "   'Saturday': '5:0-18:0',\n",
       "   'Sunday': '5:0-18:0'}}]"
      ]
     },
     "execution_count": 79,
     "metadata": {},
     "output_type": "execute_result"
    }
   ],
   "source": [
    "list(business.find({}).limit(2))"
   ]
  },
  {
   "cell_type": "markdown",
   "metadata": {
    "deletable": false,
    "editable": false
   },
   "source": [
    "<!-- BEGIN QUESTION -->\n",
    "\n",
    "What are **two** benefts of storing this data in MongoDB with JSON over a relational database management system such as Postgres?\n",
    "Please reference specific examples from the `business` collection to back up your claims. \n",
    "- Format your answer as follows:\n",
    "  1. Benefit #1, Example #1.\n",
    "  2. Benefit #2, Example #2.\n",
    "\n",
    "**Limit each benefit to 1 sentence and each example to 1 sentence for a total of at most four sentences.**\n"
   ]
  },
  {
   "cell_type": "markdown",
   "metadata": {},
   "source": [
    "Benefit #1: Flexibility in Data Schema\n",
    "\n",
    "Example #1:\n",
    "In MongoDB, the attributes field in each business document can store nested and diverse sets of sub-attributes, such as BusinessParking or GoodForMeal, which can be different for each business, allowing easy adjustments without schema modifications.\n",
    "\n",
    "Benefit #2: Ease of Handling Nested Data\n",
    "\n",
    "Example #2:\n",
    "The hours field illustrates how MongoDB stores structured data in a nested JSON format, which is more straightforward to access programmatically than joining multiple tables in a relational database that would typically be required to represent daily hours for each business.\n",
    "\n",
    "These examples demonstrate MongoDB's non-relational approach, which provides significant convenience and efficiency when dealing with varied data configurations and nested information structures."
   ]
  },
  {
   "cell_type": "markdown",
   "metadata": {
    "deletable": false,
    "editable": false
   },
   "source": [
    "##### <!-- END QUESTION -->\n",
    "\n",
    "<br>\n",
    "\n",
    "---\n",
    "### Question 2b\n",
    "\n",
    "It seems like MongoDB is getting all the love when it comes to JSON support! However, modern iterations of relational databases\n",
    "such as Postgres 9.3+ also have [excellent JSON functionality](https://www.postgresql.org/docs/9.3/functions-json.html) as we will soon explore in this task. First, let's set up a\n",
    "bit of scaffolding. The following cell will import the `yelp_academic_dataset_review.json` data into a table called `reviews` in Postgres yelp database."
   ]
  },
  {
   "cell_type": "code",
   "execution_count": 80,
   "metadata": {
    "scrolled": true
   },
   "outputs": [
    {
     "name": "stdout",
     "output_type": "stream",
     "text": [
      "DROP DATABASE\n",
      "CREATE DATABASE\n",
      "NOTICE:  table \"reviews\" does not exist, skipping\n",
      "DROP TABLE\n",
      "CREATE TABLE\n",
      "COPY 7500\n"
     ]
    },
    {
     "data": {
      "text/html": [
       "<span style=\"None\">Running query in &#x27;postgresql://jovyan@127.0.0.1:5432/postgres&#x27;</span>"
      ],
      "text/plain": [
       "Running query in 'postgresql://jovyan@127.0.0.1:5432/postgres'"
      ]
     },
     "metadata": {},
     "output_type": "display_data"
    },
    {
     "data": {
      "text/html": [
       "<table>\n",
       "    <thead>\n",
       "        <tr>\n",
       "            <th>Name</th>\n",
       "            <th>Owner</th>\n",
       "            <th>Encoding</th>\n",
       "            <th>Collate</th>\n",
       "            <th>Ctype</th>\n",
       "            <th>Access privileges</th>\n",
       "        </tr>\n",
       "    </thead>\n",
       "    <tbody>\n",
       "        <tr>\n",
       "            <td>baseball</td>\n",
       "            <td>jovyan</td>\n",
       "            <td>UTF8</td>\n",
       "            <td>en_US.utf8</td>\n",
       "            <td>en_US.utf8</td>\n",
       "            <td>None</td>\n",
       "        </tr>\n",
       "        <tr>\n",
       "            <td>imdb</td>\n",
       "            <td>jovyan</td>\n",
       "            <td>UTF8</td>\n",
       "            <td>en_US.utf8</td>\n",
       "            <td>en_US.utf8</td>\n",
       "            <td>None</td>\n",
       "        </tr>\n",
       "        <tr>\n",
       "            <td>imdb_lecture</td>\n",
       "            <td>jovyan</td>\n",
       "            <td>UTF8</td>\n",
       "            <td>en_US.utf8</td>\n",
       "            <td>en_US.utf8</td>\n",
       "            <td>None</td>\n",
       "        </tr>\n",
       "        <tr>\n",
       "            <td>jovyan</td>\n",
       "            <td>jovyan</td>\n",
       "            <td>UTF8</td>\n",
       "            <td>en_US.utf8</td>\n",
       "            <td>en_US.utf8</td>\n",
       "            <td>None</td>\n",
       "        </tr>\n",
       "        <tr>\n",
       "            <td>postgres</td>\n",
       "            <td>jovyan</td>\n",
       "            <td>UTF8</td>\n",
       "            <td>en_US.utf8</td>\n",
       "            <td>en_US.utf8</td>\n",
       "            <td>None</td>\n",
       "        </tr>\n",
       "        <tr>\n",
       "            <td>template0</td>\n",
       "            <td>jovyan</td>\n",
       "            <td>UTF8</td>\n",
       "            <td>en_US.utf8</td>\n",
       "            <td>en_US.utf8</td>\n",
       "            <td>=c/jovyan<br>jovyan=CTc/jovyan</td>\n",
       "        </tr>\n",
       "        <tr>\n",
       "            <td>template1</td>\n",
       "            <td>jovyan</td>\n",
       "            <td>UTF8</td>\n",
       "            <td>en_US.utf8</td>\n",
       "            <td>en_US.utf8</td>\n",
       "            <td>=c/jovyan<br>jovyan=CTc/jovyan</td>\n",
       "        </tr>\n",
       "        <tr>\n",
       "            <td>ucb_buildings</td>\n",
       "            <td>jovyan</td>\n",
       "            <td>UTF8</td>\n",
       "            <td>en_US.utf8</td>\n",
       "            <td>en_US.utf8</td>\n",
       "            <td>None</td>\n",
       "        </tr>\n",
       "        <tr>\n",
       "            <td>yelp</td>\n",
       "            <td>jovyan</td>\n",
       "            <td>UTF8</td>\n",
       "            <td>en_US.utf8</td>\n",
       "            <td>en_US.utf8</td>\n",
       "            <td>None</td>\n",
       "        </tr>\n",
       "    </tbody>\n",
       "</table>"
      ],
      "text/plain": [
       "+---------------+--------+----------+------------+------------+-------------------+\n",
       "|      Name     | Owner  | Encoding |  Collate   |   Ctype    | Access privileges |\n",
       "+---------------+--------+----------+------------+------------+-------------------+\n",
       "|    baseball   | jovyan |   UTF8   | en_US.utf8 | en_US.utf8 |        None       |\n",
       "|      imdb     | jovyan |   UTF8   | en_US.utf8 | en_US.utf8 |        None       |\n",
       "|  imdb_lecture | jovyan |   UTF8   | en_US.utf8 | en_US.utf8 |        None       |\n",
       "|     jovyan    | jovyan |   UTF8   | en_US.utf8 | en_US.utf8 |        None       |\n",
       "|    postgres   | jovyan |   UTF8   | en_US.utf8 | en_US.utf8 |        None       |\n",
       "|   template0   | jovyan |   UTF8   | en_US.utf8 | en_US.utf8 |     =c/jovyan     |\n",
       "|               |        |          |            |            | jovyan=CTc/jovyan |\n",
       "|   template1   | jovyan |   UTF8   | en_US.utf8 | en_US.utf8 |     =c/jovyan     |\n",
       "|               |        |          |            |            | jovyan=CTc/jovyan |\n",
       "| ucb_buildings | jovyan |   UTF8   | en_US.utf8 | en_US.utf8 |        None       |\n",
       "|      yelp     | jovyan |   UTF8   | en_US.utf8 | en_US.utf8 |        None       |\n",
       "+---------------+--------+----------+------------+------------+-------------------+"
      ]
     },
     "execution_count": 80,
     "metadata": {},
     "output_type": "execute_result"
    }
   ],
   "source": [
    "%reload_ext sql\n",
    "%sql postgresql://jovyan@127.0.0.1:5432/postgres\n",
    "\n",
    "!psql -h localhost -c 'DROP DATABASE IF EXISTS yelp'\n",
    "!psql -h localhost -c 'CREATE DATABASE yelp'\n",
    "!psql -h localhost -d yelp -c 'DROP TABLE IF EXISTS reviews'\n",
    "!psql -h localhost -d yelp -c 'CREATE TABLE reviews(data TEXT);'\n",
    "!cat data/yelp_academic_dataset_review.json | psql -h localhost -d yelp -c \"COPY reviews (data) FROM STDIN;\"\n",
    "%sql \\l"
   ]
  },
  {
   "cell_type": "markdown",
   "metadata": {},
   "source": [
    "Now, run the following cell to connect to the Postgres yelp database. There should be no errors after running the following cell."
   ]
  },
  {
   "cell_type": "code",
   "execution_count": 81,
   "metadata": {},
   "outputs": [
    {
     "data": {
      "text/html": [
       "<span style=\"None\">Connecting and switching to connection postgresql://jovyan@127.0.0.1:5432/yelp</span>"
      ],
      "text/plain": [
       "Connecting and switching to connection postgresql://jovyan@127.0.0.1:5432/yelp"
      ]
     },
     "metadata": {},
     "output_type": "display_data"
    }
   ],
   "source": [
    "%sql postgresql://jovyan@127.0.0.1:5432/yelp"
   ]
  },
  {
   "cell_type": "code",
   "execution_count": 82,
   "metadata": {},
   "outputs": [
    {
     "data": {
      "text/html": [
       "<span style=\"None\">Running query in &#x27;postgresql://jovyan@127.0.0.1:5432/yelp&#x27;</span>"
      ],
      "text/plain": [
       "Running query in 'postgresql://jovyan@127.0.0.1:5432/yelp'"
      ]
     },
     "metadata": {},
     "output_type": "display_data"
    },
    {
     "data": {
      "text/html": [
       "<table>\n",
       "    <thead>\n",
       "        <tr>\n",
       "            <th>Schema</th>\n",
       "            <th>Name</th>\n",
       "            <th>Type</th>\n",
       "            <th>Owner</th>\n",
       "        </tr>\n",
       "    </thead>\n",
       "    <tbody>\n",
       "        <tr>\n",
       "            <td>public</td>\n",
       "            <td>reviews</td>\n",
       "            <td>table</td>\n",
       "            <td>jovyan</td>\n",
       "        </tr>\n",
       "    </tbody>\n",
       "</table>"
      ],
      "text/plain": [
       "+--------+---------+-------+--------+\n",
       "| Schema |   Name  |  Type | Owner  |\n",
       "+--------+---------+-------+--------+\n",
       "| public | reviews | table | jovyan |\n",
       "+--------+---------+-------+--------+"
      ]
     },
     "execution_count": 82,
     "metadata": {},
     "output_type": "execute_result"
    }
   ],
   "source": [
    "%sql \\d"
   ]
  },
  {
   "cell_type": "markdown",
   "metadata": {},
   "source": [
    "Run the following cell to observe how this new `reviews` table looks. Note that the `data` column is stored as TEXT and not as JSON."
   ]
  },
  {
   "cell_type": "code",
   "execution_count": 83,
   "metadata": {},
   "outputs": [
    {
     "data": {
      "text/html": [
       "<span style=\"None\">Running query in &#x27;postgresql://jovyan@127.0.0.1:5432/yelp&#x27;</span>"
      ],
      "text/plain": [
       "Running query in 'postgresql://jovyan@127.0.0.1:5432/yelp'"
      ]
     },
     "metadata": {},
     "output_type": "display_data"
    },
    {
     "data": {
      "text/html": [
       "<span style=\"color: green\">2 rows affected.</span>"
      ],
      "text/plain": [
       "2 rows affected."
      ]
     },
     "metadata": {},
     "output_type": "display_data"
    },
    {
     "data": {
      "text/html": [
       "<table>\n",
       "    <thead>\n",
       "        <tr>\n",
       "            <th>values</th>\n",
       "        </tr>\n",
       "    </thead>\n",
       "    <tbody>\n",
       "        <tr>\n",
       "            <td>{'review_id': 'lWC-xP3rd6obsecCYsGZRg', 'user_id': 'ak0TdVmGKo4pwqdJSTLwWw', 'business_id': 'buF9druCkbuXLX526sGELQ', 'stars': 4.0, 'useful': 3, 'funny': 1, 'cool': 1, 'text': \"Apparently Prides Osteria had a rough summer as evidenced by the almost empty dining room at 6:30 on a Friday night. However new blood in the kitchen seems to have revitalized the food from other customers recent visits. Waitstaff was warm but unobtrusive. By 8 pm or so when we left the bar was full and the dining room was much more lively than it had been. Perhaps Beverly residents prefer a later seating. After reading the mixed reviews of late I was a little tentative over our choice but luckily there was nothing to worry about in the food department. We started with the fried dough, burrata and prosciutto which were all lovely. Then although they don't offer half portions of pasta we each ordered the entree size and split them. We chose the tagliatelle bolognese and a four cheese filled pasta in a creamy sauce with bacon, asparagus and grana frita. Both were very good. We split a secondi which was the special Berkshire pork secreto, which was described as a pork skirt steak with garlic potato purée and romanesco broccoli (incorrectly described as a romanesco sauce). Some tables received bread before the meal but for some reason we did not. Management also seems capable for when the tenants in the apartment above began playing basketball she intervened and also comped the tables a dessert. We ordered the apple dumpling with gelato and it was also quite tasty. Portions are not huge which I particularly like because I prefer to order courses. If you are someone who orders just a meal you may leave hungry depending on you appetite. Dining room was mostly younger crowd while the bar was definitely the over 40 set. Would recommend that the naysayers return to see the improvement although I personally don't know the former glory to be able to compare. Easy access to downtown Salem without the crowds on this month of October.\", 'date': '2014-10-11 03:34:02'}</td>\n",
       "        </tr>\n",
       "        <tr>\n",
       "            <td>{'review_id': '8bFej1QE5LXp4O05qjGqXA', 'user_id': 'YoVfDbnISlW0f7abNQACIg', 'business_id': 'RA4V8pr014UyUbDvI-LW2A', 'stars': 4.0, 'useful': 1, 'funny': 0, 'cool': 0, 'text': 'This store is pretty good. Not as great as Walmart (or my preferred, Milford Target), but closer and in a easier area to get to.  The store itself is pretty clean and organized, the staff are friendly (most of the time), and BEST of all is the Self Checkout this store has! Great clearance sections throughout, and great prices on everything in the store, in general (they pricematch too!). Christian, Debbie, Jen and Hanna are all very friendly, helpful, sensitive to all customer needs. Definitely one of the better Target locations in the area, and they do a GREAT job assisting customers for being such a busy store. Located directly in the Framingham Mall on Cochituate Rd / Route 30. 4 stars.', 'date': '2015-07-03 20:38:25'}</td>\n",
       "        </tr>\n",
       "    </tbody>\n",
       "</table>"
      ],
      "text/plain": [
       "+------------------------------------------------------------------------------------------------------------------------------------------------------------------------------------------------------------------------------------------------------------------------------------------------------------------------------------------------------------------------------------------------------------------------------------------------------------------------------------------------------------------------------------------------------------------------------------------------------------------------------------------------------------------------------------------------------------------------------------------------------------------------------------------------------------------------------------------------------------------------------------------------------------------------------------------------------------------------------------------------------------------------------------------------------------------------------------------------------------------------------------------------------------------------------------------------------------------------------------------------------------------------------------------------------------------------------------------------------------------------------------------------------------------------------------------------------------------------------------------------------------------------------------------------------------------------------------------------------------------------------------------------------------------------------------------------------------------------------------------------------------------------------------------------------------------------------------------------------------------------------------------------------------------------------------------------------------------------------------------------------------------------------------------------------------------------------------------------------------------------------------------------+\n",
       "|                                                                                                                                                                                                                                                                                                                                                                                                                                                                                                                                                                                                                                                                                                                                                                                                                                                                                                                                                                                                                                                                     values                                                                                                                                                                                                                                                                                                                                                                                                                                                                                                                                                                                                                                                                                                                                                                                                                                                                                                                                                                                                                                                                     |\n",
       "+------------------------------------------------------------------------------------------------------------------------------------------------------------------------------------------------------------------------------------------------------------------------------------------------------------------------------------------------------------------------------------------------------------------------------------------------------------------------------------------------------------------------------------------------------------------------------------------------------------------------------------------------------------------------------------------------------------------------------------------------------------------------------------------------------------------------------------------------------------------------------------------------------------------------------------------------------------------------------------------------------------------------------------------------------------------------------------------------------------------------------------------------------------------------------------------------------------------------------------------------------------------------------------------------------------------------------------------------------------------------------------------------------------------------------------------------------------------------------------------------------------------------------------------------------------------------------------------------------------------------------------------------------------------------------------------------------------------------------------------------------------------------------------------------------------------------------------------------------------------------------------------------------------------------------------------------------------------------------------------------------------------------------------------------------------------------------------------------------------------------------------------------+\n",
       "| {'review_id': 'lWC-xP3rd6obsecCYsGZRg', 'user_id': 'ak0TdVmGKo4pwqdJSTLwWw', 'business_id': 'buF9druCkbuXLX526sGELQ', 'stars': 4.0, 'useful': 3, 'funny': 1, 'cool': 1, 'text': \"Apparently Prides Osteria had a rough summer as evidenced by the almost empty dining room at 6:30 on a Friday night. However new blood in the kitchen seems to have revitalized the food from other customers recent visits. Waitstaff was warm but unobtrusive. By 8 pm or so when we left the bar was full and the dining room was much more lively than it had been. Perhaps Beverly residents prefer a later seating. After reading the mixed reviews of late I was a little tentative over our choice but luckily there was nothing to worry about in the food department. We started with the fried dough, burrata and prosciutto which were all lovely. Then although they don't offer half portions of pasta we each ordered the entree size and split them. We chose the tagliatelle bolognese and a four cheese filled pasta in a creamy sauce with bacon, asparagus and grana frita. Both were very good. We split a secondi which was the special Berkshire pork secreto, which was described as a pork skirt steak with garlic potato purée and romanesco broccoli (incorrectly described as a romanesco sauce). Some tables received bread before the meal but for some reason we did not. Management also seems capable for when the tenants in the apartment above began playing basketball she intervened and also comped the tables a dessert. We ordered the apple dumpling with gelato and it was also quite tasty. Portions are not huge which I particularly like because I prefer to order courses. If you are someone who orders just a meal you may leave hungry depending on you appetite. Dining room was mostly younger crowd while the bar was definitely the over 40 set. Would recommend that the naysayers return to see the improvement although I personally don't know the former glory to be able to compare. Easy access to downtown Salem without the crowds on this month of October.\", 'date': '2014-10-11 03:34:02'} |\n",
       "|                                                                                                                                                                                                                                                                                                                                                                                                                                                                                                                                                                                                  {'review_id': '8bFej1QE5LXp4O05qjGqXA', 'user_id': 'YoVfDbnISlW0f7abNQACIg', 'business_id': 'RA4V8pr014UyUbDvI-LW2A', 'stars': 4.0, 'useful': 1, 'funny': 0, 'cool': 0, 'text': 'This store is pretty good. Not as great as Walmart (or my preferred, Milford Target), but closer and in a easier area to get to.  The store itself is pretty clean and organized, the staff are friendly (most of the time), and BEST of all is the Self Checkout this store has! Great clearance sections throughout, and great prices on everything in the store, in general (they pricematch too!). Christian, Debbie, Jen and Hanna are all very friendly, helpful, sensitive to all customer needs. Definitely one of the better Target locations in the area, and they do a GREAT job assisting customers for being such a busy store. Located directly in the Framingham Mall on Cochituate Rd / Route 30. 4 stars.', 'date': '2015-07-03 20:38:25'}                                                                                                                                                                                                                                                                                                                                                                                                                                                                                                                                                                                                  |\n",
       "+------------------------------------------------------------------------------------------------------------------------------------------------------------------------------------------------------------------------------------------------------------------------------------------------------------------------------------------------------------------------------------------------------------------------------------------------------------------------------------------------------------------------------------------------------------------------------------------------------------------------------------------------------------------------------------------------------------------------------------------------------------------------------------------------------------------------------------------------------------------------------------------------------------------------------------------------------------------------------------------------------------------------------------------------------------------------------------------------------------------------------------------------------------------------------------------------------------------------------------------------------------------------------------------------------------------------------------------------------------------------------------------------------------------------------------------------------------------------------------------------------------------------------------------------------------------------------------------------------------------------------------------------------------------------------------------------------------------------------------------------------------------------------------------------------------------------------------------------------------------------------------------------------------------------------------------------------------------------------------------------------------------------------------------------------------------------------------------------------------------------------------------------+"
      ]
     },
     "execution_count": 83,
     "metadata": {},
     "output_type": "execute_result"
    }
   ],
   "source": [
    "%%sql\n",
    "SELECT CAST(regexp_replace(data, E'[\\\\n\\\\r]+', '','g') AS JSON) AS values FROM reviews LIMIT 2;"
   ]
  },
  {
   "cell_type": "markdown",
   "metadata": {},
   "source": [
    "Observe how the reviews table consists of one column named `data`. This column contains all the JSON documents in the \n",
    "reviews collection *in text format*. Use [Postgres' JSON functions](https://www.postgresql.org/docs/9.3/functions-json.html) to write a query that converts the JSON object fields into their own `TEXT` columns (**hint:** one of the operators in Table 9-40 may be useful). To be more concrete, your query should contain 8 columns in this particular order: `review_id`, `user_id`, `business_id`, `stars`, `useful`, `funny`, `cool`, and `text`. Each row should correspond to one JSON document. Some skeleton code (that does the mundane work of converting data to JSON properly) is provided to you—you will only need to fill in the SELECT clause."
   ]
  },
  {
   "cell_type": "code",
   "execution_count": 84,
   "metadata": {
    "tags": []
   },
   "outputs": [
    {
     "data": {
      "text/html": [
       "<span style=\"None\">Running query in &#x27;postgresql://jovyan@127.0.0.1:5432/yelp&#x27;</span>"
      ],
      "text/plain": [
       "Running query in 'postgresql://jovyan@127.0.0.1:5432/yelp'"
      ]
     },
     "metadata": {},
     "output_type": "display_data"
    },
    {
     "data": {
      "text/html": [
       "<span style=\"color: green\">10 rows affected.</span>"
      ],
      "text/plain": [
       "10 rows affected."
      ]
     },
     "metadata": {},
     "output_type": "display_data"
    }
   ],
   "source": [
    "%%sql --save query_2b result_2b <<\n",
    "SELECT \n",
    "    values->>'review_id' AS review_id,\n",
    "    values->>'user_id' AS user_id,\n",
    "    values->>'business_id' AS business_id,\n",
    "    values->>'stars' AS stars,\n",
    "    values->>'useful' AS useful,\n",
    "    values->>'funny' AS funny,\n",
    "    values->>'cool' AS cool,\n",
    "    values->>'text' AS text\n",
    "FROM (\n",
    "    SELECT CAST(regexp_replace(data, E'[\\\\n\\\\r]+', '','g') AS JSON) AS values\n",
    "    FROM reviews\n",
    ") b\n",
    "ORDER BY review_id\n",
    "LIMIT 10;"
   ]
  },
  {
   "cell_type": "code",
   "execution_count": 85,
   "metadata": {
    "tags": []
   },
   "outputs": [
    {
     "data": {
      "text/html": [
       "<div>\n",
       "<style scoped>\n",
       "    .dataframe tbody tr th:only-of-type {\n",
       "        vertical-align: middle;\n",
       "    }\n",
       "\n",
       "    .dataframe tbody tr th {\n",
       "        vertical-align: top;\n",
       "    }\n",
       "\n",
       "    .dataframe thead th {\n",
       "        text-align: right;\n",
       "    }\n",
       "</style>\n",
       "<table border=\"1\" class=\"dataframe\">\n",
       "  <thead>\n",
       "    <tr style=\"text-align: right;\">\n",
       "      <th></th>\n",
       "      <th>review_id</th>\n",
       "      <th>user_id</th>\n",
       "      <th>business_id</th>\n",
       "      <th>stars</th>\n",
       "      <th>useful</th>\n",
       "      <th>funny</th>\n",
       "      <th>cool</th>\n",
       "      <th>text</th>\n",
       "    </tr>\n",
       "  </thead>\n",
       "  <tbody>\n",
       "    <tr>\n",
       "      <th>0</th>\n",
       "      <td>000bviMESLXmlIFKDzCEfw</td>\n",
       "      <td>f7LnyAbhP5OSXvv_xiuZhw</td>\n",
       "      <td>SNuCspoI3HKcwJpZL5FcjQ</td>\n",
       "      <td>3.0</td>\n",
       "      <td>2</td>\n",
       "      <td>0</td>\n",
       "      <td>0</td>\n",
       "      <td>I went there not having read any reviews.  Fro...</td>\n",
       "    </tr>\n",
       "    <tr>\n",
       "      <th>1</th>\n",
       "      <td>003VeQn6SrVQS4sYHlc0gg</td>\n",
       "      <td>ba8ZSYE11LVepGCxwP9Vpg</td>\n",
       "      <td>rdS7hBBeukiX4Led9OT8sg</td>\n",
       "      <td>5.0</td>\n",
       "      <td>0</td>\n",
       "      <td>0</td>\n",
       "      <td>0</td>\n",
       "      <td>Molana has one of the most tender Chicken Barg...</td>\n",
       "    </tr>\n",
       "    <tr>\n",
       "      <th>2</th>\n",
       "      <td>00HovWV7VcZZPx5IleoeWA</td>\n",
       "      <td>Nzaq0bJcE3q_bRdFrsFRsA</td>\n",
       "      <td>Ln-8CbKGZGmF-GCqMoMcpA</td>\n",
       "      <td>4.0</td>\n",
       "      <td>0</td>\n",
       "      <td>0</td>\n",
       "      <td>0</td>\n",
       "      <td>This place is really new, but they were pretty...</td>\n",
       "    </tr>\n",
       "    <tr>\n",
       "      <th>3</th>\n",
       "      <td>00pmZ82_w6Mpky6dl2jpiA</td>\n",
       "      <td>r7e-6OS8A_gE_0CTUjQR3g</td>\n",
       "      <td>IDxaD_0_9TlWyKKXBFwjMA</td>\n",
       "      <td>1.0</td>\n",
       "      <td>0</td>\n",
       "      <td>0</td>\n",
       "      <td>0</td>\n",
       "      <td>The food was great .. we had breakfast... the ...</td>\n",
       "    </tr>\n",
       "    <tr>\n",
       "      <th>4</th>\n",
       "      <td>021UtGruSN1RA5YRS92E7w</td>\n",
       "      <td>6cyn5sP2OCarYV02KWtuGQ</td>\n",
       "      <td>5HMXgD_gui5n0Tc_hadesg</td>\n",
       "      <td>3.0</td>\n",
       "      <td>0</td>\n",
       "      <td>0</td>\n",
       "      <td>0</td>\n",
       "      <td>The atmosphere is great for drinks but I'd say...</td>\n",
       "    </tr>\n",
       "  </tbody>\n",
       "</table>\n",
       "</div>"
      ],
      "text/plain": [
       "                review_id                 user_id             business_id  \\\n",
       "0  000bviMESLXmlIFKDzCEfw  f7LnyAbhP5OSXvv_xiuZhw  SNuCspoI3HKcwJpZL5FcjQ   \n",
       "1  003VeQn6SrVQS4sYHlc0gg  ba8ZSYE11LVepGCxwP9Vpg  rdS7hBBeukiX4Led9OT8sg   \n",
       "2  00HovWV7VcZZPx5IleoeWA  Nzaq0bJcE3q_bRdFrsFRsA  Ln-8CbKGZGmF-GCqMoMcpA   \n",
       "3  00pmZ82_w6Mpky6dl2jpiA  r7e-6OS8A_gE_0CTUjQR3g  IDxaD_0_9TlWyKKXBFwjMA   \n",
       "4  021UtGruSN1RA5YRS92E7w  6cyn5sP2OCarYV02KWtuGQ  5HMXgD_gui5n0Tc_hadesg   \n",
       "\n",
       "  stars useful funny cool                                               text  \n",
       "0   3.0      2     0    0  I went there not having read any reviews.  Fro...  \n",
       "1   5.0      0     0    0  Molana has one of the most tender Chicken Barg...  \n",
       "2   4.0      0     0    0  This place is really new, but they were pretty...  \n",
       "3   1.0      0     0    0  The food was great .. we had breakfast... the ...  \n",
       "4   3.0      0     0    0  The atmosphere is great for drinks but I'd say...  "
      ]
     },
     "execution_count": 85,
     "metadata": {},
     "output_type": "execute_result"
    }
   ],
   "source": [
    "# Do not delete/edit this cell!\n",
    "# You must run this cell before running the autograder.\n",
    "query_2b = %sqlcmd snippets query_2b\n",
    "grading_util.save_results(\"result_2b\", query_2b, result_2b)\n",
    "result_2b.DataFrame().head()"
   ]
  },
  {
   "cell_type": "code",
   "execution_count": 86,
   "metadata": {
    "deletable": false,
    "editable": false
   },
   "outputs": [
    {
     "data": {
      "text/html": [
       "<p><strong><pre style='display: inline;'>q2b</pre></strong> passed! ✨</p>"
      ],
      "text/plain": [
       "q2b results: All test cases passed!"
      ]
     },
     "execution_count": 86,
     "metadata": {},
     "output_type": "execute_result"
    }
   ],
   "source": [
    "grader.check(\"q2b\")"
   ]
  },
  {
   "cell_type": "markdown",
   "metadata": {},
   "source": [
    "<br>\n",
    "\n",
    "---\n",
    "### Question 2c\n",
    "\n",
    "One important aspect of data engineering that we have not referred to yet are joins. We saw, through the use of indices, selection/projection pushdown, and various physical implementations (as well as orderings), joins could be done quite efficiently in relational SQL based databases. How do joins fare in Mongo where the data stored is inherently semistructured? Let's investigate! For this question, we have provided you access to the tables `business_complete` and `review_complete` which contain the business and review collections in relational form as described in 2b (the columns of the relations\n",
    "are fields in the JSON document). Each relation has its respective id (`business_id` or `review_id`) column as its primary key."
   ]
  },
  {
   "cell_type": "code",
   "execution_count": 87,
   "metadata": {},
   "outputs": [
    {
     "name": "stdout",
     "output_type": "stream",
     "text": [
      "NOTICE:  table \"business_complete\" does not exist, skipping\n",
      "DROP TABLE\n",
      "CREATE TABLE\n",
      "NOTICE:  table \"review_complete\" does not exist, skipping\n",
      "DROP TABLE\n",
      "CREATE TABLE\n",
      "COPY 35\n",
      "COPY 7500\n"
     ]
    }
   ],
   "source": [
    "!psql -h localhost -d yelp -c 'DROP TABLE IF EXISTS business_complete'\n",
    "!psql -h localhost -d yelp -c 'CREATE TABLE business_complete(business_id TEXT PRIMARY KEY, name TEXT, address TEXT, city TEXT, state TEXT, postal_code TEXT, latitude TEXT,longitude TEXT, stars TEXT, review_count TEXT, is_open TEXT, attributes TEXT, categories TEXT, hours TEXT);'\n",
    "!psql -h localhost -d yelp -c 'DROP TABLE IF EXISTS review_complete'\n",
    "!psql -h localhost -d yelp -c 'CREATE TABLE review_complete(review_id TEXT PRIMARY KEY, user_id TEXT, business_id TEXT, stars TEXT, useful TEXT, funny TEXT, cool TEXT,text TEXT);'\n",
    "!cat data/business.csv | psql -h localhost -d yelp -c \"COPY business_complete (business_id,name,address,city,state,postal_code,latitude,longitude,stars,review_count,is_open,attributes,categories,hours) FROM STDIN CSV HEADER;\"\n",
    "!cat data/review.csv | psql -h localhost -d yelp -c \"COPY review_complete (review_id, user_id, business_id, stars, useful, funny, cool, text) FROM STDIN CSV HEADER;\""
   ]
  },
  {
   "cell_type": "markdown",
   "metadata": {},
   "source": [
    "Let's take a look at how `review_complete` looks."
   ]
  },
  {
   "cell_type": "code",
   "execution_count": 88,
   "metadata": {},
   "outputs": [
    {
     "data": {
      "text/html": [
       "<span style=\"None\">Running query in &#x27;postgresql://jovyan@127.0.0.1:5432/yelp&#x27;</span>"
      ],
      "text/plain": [
       "Running query in 'postgresql://jovyan@127.0.0.1:5432/yelp'"
      ]
     },
     "metadata": {},
     "output_type": "display_data"
    },
    {
     "data": {
      "text/html": [
       "<span style=\"color: green\">1 rows affected.</span>"
      ],
      "text/plain": [
       "1 rows affected."
      ]
     },
     "metadata": {},
     "output_type": "display_data"
    },
    {
     "data": {
      "text/html": [
       "<table>\n",
       "    <thead>\n",
       "        <tr>\n",
       "            <th>business_id</th>\n",
       "            <th>name</th>\n",
       "            <th>address</th>\n",
       "            <th>city</th>\n",
       "            <th>state</th>\n",
       "            <th>postal_code</th>\n",
       "            <th>latitude</th>\n",
       "            <th>longitude</th>\n",
       "            <th>stars</th>\n",
       "            <th>review_count</th>\n",
       "            <th>is_open</th>\n",
       "            <th>attributes</th>\n",
       "            <th>categories</th>\n",
       "            <th>hours</th>\n",
       "        </tr>\n",
       "    </thead>\n",
       "    <tbody>\n",
       "        <tr>\n",
       "            <td>extrX1RLZEOq6VXN5SvnTw</td>\n",
       "            <td>Fiskie's Cafe</td>\n",
       "            <td>27 Harbor Point Blvd</td>\n",
       "            <td>Dorchester</td>\n",
       "            <td>MA</td>\n",
       "            <td>02125</td>\n",
       "            <td>42.318905</td>\n",
       "            <td>-71.042273</td>\n",
       "            <td>3.5</td>\n",
       "            <td>32</td>\n",
       "            <td>1</td>\n",
       "            <td>{\"BikeParking\":\"False\",\"NoiseLevel\":\"u'average'\",\"Ambience\":\"{'romantic': False, 'intimate': False, 'classy': False, 'hipster': False, 'divey': False, 'touristy': False, 'trendy': False, 'upscale': False, 'casual': True}\",\"BusinessAcceptsBitcoin\":\"False\",\"Alcohol\":\"u'none'\",\"RestaurantsAttire\":\"u'casual'\",\"RestaurantsPriceRange2\":\"2\",\"WiFi\":\"u'no'\",\"OutdoorSeating\":\"True\",\"RestaurantsTakeOut\":\"True\",\"RestaurantsDelivery\":\"True\",\"Caters\":\"True\",\"GoodForKids\":\"True\",\"RestaurantsReservations\":\"None\",\"GoodForMeal\":\"{'dessert': False, 'latenight': False, 'lunch': False, 'dinner': False, 'brunch': True, 'breakfast': False}\",\"RestaurantsGoodForGroups\":\"True\",\"HasTV\":\"False\",\"BusinessAcceptsCreditCards\":\"True\",\"BusinessParking\":\"{'garage': False, 'street': False, 'validated': False, 'lot': False, 'valet': False}\"}</td>\n",
       "            <td>Burgers, American (Traditional), Asian Fusion, Chinese, Restaurants, Mediterranean</td>\n",
       "            <td>{\"Monday\":\"11:0-21:0\",\"Tuesday\":\"11:0-21:0\",\"Wednesday\":\"11:0-21:0\",\"Thursday\":\"11:0-21:0\",\"Friday\":\"11:0-21:0\",\"Saturday\":\"11:0-20:0\",\"Sunday\":\"11:0-20:0\"}</td>\n",
       "        </tr>\n",
       "    </tbody>\n",
       "</table>"
      ],
      "text/plain": [
       "+------------------------+---------------+----------------------+------------+-------+-------------+-----------+------------+-------+--------------+---------+---------------------------------------------------------------------------------------------------------------------------------------------------------------------------------------------------------------------------------------------------------------------------------------------------------------------------------------------------------------------------------------------------------------------------------------------------------------------------------------------------------------------------------------------------------------------------------------------------------------------------------------------------------------------------------------------------------------------------------------------------------------------------------------------------------------------------------------------------+------------------------------------------------------------------------------------+--------------------------------------------------------------------------------------------------------------------------------------------------------------+\n",
       "|      business_id       |      name     |       address        |    city    | state | postal_code |  latitude | longitude  | stars | review_count | is_open |                                                                                                                                                                                                                                                                                                                                                                                                                     attributes                                                                                                                                                                                                                                                                                                                                                                                                                    |                                     categories                                     |                                                                            hours                                                                             |\n",
       "+------------------------+---------------+----------------------+------------+-------+-------------+-----------+------------+-------+--------------+---------+---------------------------------------------------------------------------------------------------------------------------------------------------------------------------------------------------------------------------------------------------------------------------------------------------------------------------------------------------------------------------------------------------------------------------------------------------------------------------------------------------------------------------------------------------------------------------------------------------------------------------------------------------------------------------------------------------------------------------------------------------------------------------------------------------------------------------------------------------+------------------------------------------------------------------------------------+--------------------------------------------------------------------------------------------------------------------------------------------------------------+\n",
       "| extrX1RLZEOq6VXN5SvnTw | Fiskie's Cafe | 27 Harbor Point Blvd | Dorchester |   MA  |    02125    | 42.318905 | -71.042273 |  3.5  |      32      |    1    | {\"BikeParking\":\"False\",\"NoiseLevel\":\"u'average'\",\"Ambience\":\"{'romantic': False, 'intimate': False, 'classy': False, 'hipster': False, 'divey': False, 'touristy': False, 'trendy': False, 'upscale': False, 'casual': True}\",\"BusinessAcceptsBitcoin\":\"False\",\"Alcohol\":\"u'none'\",\"RestaurantsAttire\":\"u'casual'\",\"RestaurantsPriceRange2\":\"2\",\"WiFi\":\"u'no'\",\"OutdoorSeating\":\"True\",\"RestaurantsTakeOut\":\"True\",\"RestaurantsDelivery\":\"True\",\"Caters\":\"True\",\"GoodForKids\":\"True\",\"RestaurantsReservations\":\"None\",\"GoodForMeal\":\"{'dessert': False, 'latenight': False, 'lunch': False, 'dinner': False, 'brunch': True, 'breakfast': False}\",\"RestaurantsGoodForGroups\":\"True\",\"HasTV\":\"False\",\"BusinessAcceptsCreditCards\":\"True\",\"BusinessParking\":\"{'garage': False, 'street': False, 'validated': False, 'lot': False, 'valet': False}\"} | Burgers, American (Traditional), Asian Fusion, Chinese, Restaurants, Mediterranean | {\"Monday\":\"11:0-21:0\",\"Tuesday\":\"11:0-21:0\",\"Wednesday\":\"11:0-21:0\",\"Thursday\":\"11:0-21:0\",\"Friday\":\"11:0-21:0\",\"Saturday\":\"11:0-20:0\",\"Sunday\":\"11:0-20:0\"} |\n",
       "+------------------------+---------------+----------------------+------------+-------+-------------+-----------+------------+-------+--------------+---------+---------------------------------------------------------------------------------------------------------------------------------------------------------------------------------------------------------------------------------------------------------------------------------------------------------------------------------------------------------------------------------------------------------------------------------------------------------------------------------------------------------------------------------------------------------------------------------------------------------------------------------------------------------------------------------------------------------------------------------------------------------------------------------------------------------------------------------------------------+------------------------------------------------------------------------------------+--------------------------------------------------------------------------------------------------------------------------------------------------------------+"
      ]
     },
     "execution_count": 88,
     "metadata": {},
     "output_type": "execute_result"
    }
   ],
   "source": [
    "%%sql\n",
    "SELECT * FROM business_complete LIMIT 1;"
   ]
  },
  {
   "cell_type": "markdown",
   "metadata": {},
   "source": [
    "At this current moment in time, Mongo only supports left joins (via the lookup aggregation stage). This is what we will compare against SQL.\n",
    "\n",
    "Let's start by writing a SQL query that displays all the reviews along with their associated business information. You should perform a **left join** between the `review_complete` table and the `business_complete` table on the `business_id` column, and you may project all columns. Keep a mental note of the **execution time** that you see in the query plan."
   ]
  },
  {
   "cell_type": "code",
   "execution_count": 89,
   "metadata": {
    "tags": []
   },
   "outputs": [
    {
     "name": "stdout",
     "output_type": "stream",
     "text": [
      "                                                         QUERY PLAN                                                          \n",
      "-----------------------------------------------------------------------------------------------------------------------------\n",
      " Hash Left Join  (cost=13.82..778.08 rows=15792 width=704) (actual time=0.069..3.666 rows=7500 loops=1)\n",
      "   Hash Cond: (review_complete.business_id = business_complete.business_id)\n",
      "   ->  Seq Scan on review_complete  (cost=0.00..721.92 rows=15792 width=256) (actual time=0.010..1.956 rows=7500 loops=1)\n",
      "   ->  Hash  (cost=11.70..11.70 rows=170 width=448) (actual time=0.044..0.045 rows=35 loops=1)\n",
      "         Buckets: 1024  Batches: 1  Memory Usage: 32kB\n",
      "         ->  Seq Scan on business_complete  (cost=0.00..11.70 rows=170 width=448) (actual time=0.002..0.012 rows=35 loops=1)\n",
      " Planning Time: 0.533 ms\n",
      " Execution Time: 3.927 ms\n",
      "(8 rows)\n",
      "\n"
     ]
    }
   ],
   "source": [
    "result_2c_str = \"SELECT * FROM review_complete LEFT JOIN business_complete ON review_complete.business_id = business_complete.business_id;\"\n",
    "!psql -h localhost -d yelp -c \"explain analyze $result_2c_str\""
   ]
  },
  {
   "cell_type": "markdown",
   "metadata": {
    "deletable": false,
    "editable": false
   },
   "source": [
    "Now, let's perform the equivalent left join in Mongo between `review` and `business`. **The output array field should be named as `business_info`**. Feel free to refer to the `$lookup` [documentation](https://docs.mongodb.com/manual/reference/operator/aggregation/lookup/).\n",
    "\n",
    "**Note:** You will provide a single-stage pipeline to `review.aggregate(...)` as your solution. Save your pipeline to `q2c_pipeline`."
   ]
  },
  {
   "cell_type": "code",
   "execution_count": 90,
   "metadata": {
    "tags": []
   },
   "outputs": [
    {
     "data": {
      "text/plain": [
       "{'_id': ObjectId('6627cd9c7ff727a30de5493e'),\n",
       " 'review_id': 'lWC-xP3rd6obsecCYsGZRg',\n",
       " 'user_id': 'ak0TdVmGKo4pwqdJSTLwWw',\n",
       " 'business_id': 'buF9druCkbuXLX526sGELQ',\n",
       " 'stars': 4.0,\n",
       " 'useful': 3,\n",
       " 'funny': 1,\n",
       " 'cool': 1,\n",
       " 'text': \"Apparently Prides Osteria had a rough summer as evidenced by the almost empty dining room at 6:30 on a Friday night. However new blood in the kitchen seems to have revitalized the food from other customers recent visits. Waitstaff was warm but unobtrusive. By 8 pm or so when we left the bar was full and the dining room was much more lively than it had been. Perhaps Beverly residents prefer a later seating. \\n\\nAfter reading the mixed reviews of late I was a little tentative over our choice but luckily there was nothing to worry about in the food department. We started with the fried dough, burrata and prosciutto which were all lovely. Then although they don't offer half portions of pasta we each ordered the entree size and split them. We chose the tagliatelle bolognese and a four cheese filled pasta in a creamy sauce with bacon, asparagus and grana frita. Both were very good. We split a secondi which was the special Berkshire pork secreto, which was described as a pork skirt steak with garlic potato purée and romanesco broccoli (incorrectly described as a romanesco sauce). Some tables received bread before the meal but for some reason we did not. \\n\\nManagement also seems capable for when the tenants in the apartment above began playing basketball she intervened and also comped the tables a dessert. We ordered the apple dumpling with gelato and it was also quite tasty. Portions are not huge which I particularly like because I prefer to order courses. If you are someone who orders just a meal you may leave hungry depending on you appetite. Dining room was mostly younger crowd while the bar was definitely the over 40 set. Would recommend that the naysayers return to see the improvement although I personally don't know the former glory to be able to compare. Easy access to downtown Salem without the crowds on this month of October.\",\n",
       " 'date': '2014-10-11 03:34:02',\n",
       " 'business_info': [{'_id': ObjectId('6627cd6d7ff727a30de2e1ac'),\n",
       "   'business_id': 'buF9druCkbuXLX526sGELQ',\n",
       "   'name': 'Prides Osteria',\n",
       "   'address': '240 Rantoul St',\n",
       "   'city': 'Beverly',\n",
       "   'state': 'MA',\n",
       "   'postal_code': '01915',\n",
       "   'latitude': 42.5496089,\n",
       "   'longitude': -70.884046,\n",
       "   'stars': 3.5,\n",
       "   'review_count': 83,\n",
       "   'is_open': 0,\n",
       "   'attributes': {'OutdoorSeating': 'False',\n",
       "    'RestaurantsGoodForGroups': 'True',\n",
       "    'Alcohol': \"u'full_bar'\",\n",
       "    'RestaurantsDelivery': 'False',\n",
       "    'RestaurantsReservations': 'True',\n",
       "    'BusinessAcceptsCreditCards': 'True',\n",
       "    'BikeParking': 'True',\n",
       "    'HasTV': 'True',\n",
       "    'BusinessParking': \"{'garage': False, 'street': True, 'validated': False, 'lot': False, 'valet': False}\",\n",
       "    'RestaurantsAttire': \"u'casual'\",\n",
       "    'GoodForKids': 'False',\n",
       "    'Ambience': \"{'romantic': False, 'intimate': False, 'classy': True, 'hipster': False, 'divey': False, 'touristy': False, 'trendy': False, 'upscale': False, 'casual': True}\",\n",
       "    'NoiseLevel': \"u'average'\",\n",
       "    'RestaurantsTakeOut': 'True',\n",
       "    'RestaurantsPriceRange2': '3'},\n",
       "   'categories': 'Restaurants, Wine Bars, Nightlife, Farmers Market, Food, Bars, Italian',\n",
       "   'hours': {'Tuesday': '17:0-22:0',\n",
       "    'Wednesday': '17:0-22:0',\n",
       "    'Thursday': '17:0-22:0',\n",
       "    'Friday': '17:0-23:0',\n",
       "    'Saturday': '17:0-23:0',\n",
       "    'Sunday': '17:0-22:0'}}]}"
      ]
     },
     "execution_count": 90,
     "metadata": {},
     "output_type": "execute_result"
    }
   ],
   "source": [
    "# We first create an index on business_id in the business collection\n",
    "business.create_index('business_id', unique=True)\n",
    "\n",
    "q2c_pipeline = [\n",
    "    {\n",
    "        \"$lookup\": {\n",
    "            \"from\": \"business\",           # The target collection to join with\n",
    "            \"localField\": \"business_id\",  # Field from the input documents\n",
    "            \"foreignField\": \"business_id\",# Field from the documents of the \"from\" collection\n",
    "            \"as\": \"business_info\"         # Output array field containing the joined documents\n",
    "        }\n",
    "    }\n",
    "]\n",
    "\n",
    "result_2c = list(review.aggregate(q2c_pipeline))[:5]\n",
    "\n",
    "result_2c[0]"
   ]
  },
  {
   "cell_type": "code",
   "execution_count": 91,
   "metadata": {
    "tags": []
   },
   "outputs": [],
   "source": [
    "# Do not delete/edit this cell!\n",
    "# You must run this cell before running the autograder.\n",
    "result_2c = list(review.aggregate(q2c_pipeline))[:5]\n",
    "grading_util.save_results(\"result_2c\", result_2c);"
   ]
  },
  {
   "cell_type": "code",
   "execution_count": 92,
   "metadata": {
    "deletable": false,
    "editable": false
   },
   "outputs": [
    {
     "data": {
      "text/html": [
       "<p><strong><pre style='display: inline;'>q2c</pre></strong> passed! 🍀</p>"
      ],
      "text/plain": [
       "q2c results: All test cases passed!"
      ]
     },
     "execution_count": 92,
     "metadata": {},
     "output_type": "execute_result"
    }
   ],
   "source": [
    "grader.check(\"q2c\")"
   ]
  },
  {
   "cell_type": "markdown",
   "metadata": {},
   "source": [
    "Run the following cell to examine the query plan for the Mongo query that you just wrote. Again, make a mental note of the execution time that you see (you can find the value corresponding to the key `executionTimeMillis`)."
   ]
  },
  {
   "cell_type": "code",
   "execution_count": 93,
   "metadata": {},
   "outputs": [
    {
     "data": {
      "text/plain": [
       "{'explainVersion': '1',\n",
       " 'stages': [{'$cursor': {'queryPlanner': {'namespace': 'yelp.review',\n",
       "     'indexFilterSet': False,\n",
       "     'parsedQuery': {},\n",
       "     'queryHash': '8B3D4AB8',\n",
       "     'planCacheKey': 'D542626C',\n",
       "     'maxIndexedOrSolutionsReached': False,\n",
       "     'maxIndexedAndSolutionsReached': False,\n",
       "     'maxScansToExplodeReached': False,\n",
       "     'winningPlan': {'stage': 'COLLSCAN', 'direction': 'forward'},\n",
       "     'rejectedPlans': []},\n",
       "    'executionStats': {'executionSuccess': True,\n",
       "     'nReturned': 7500,\n",
       "     'executionTimeMillis': 382,\n",
       "     'totalKeysExamined': 0,\n",
       "     'totalDocsExamined': 7500,\n",
       "     'executionStages': {'stage': 'COLLSCAN',\n",
       "      'nReturned': 7500,\n",
       "      'executionTimeMillisEstimate': 0,\n",
       "      'works': 7502,\n",
       "      'advanced': 7500,\n",
       "      'needTime': 1,\n",
       "      'needYield': 0,\n",
       "      'saveState': 10,\n",
       "      'restoreState': 10,\n",
       "      'isEOF': 1,\n",
       "      'direction': 'forward',\n",
       "      'docsExamined': 7500}}},\n",
       "   'nReturned': 7500,\n",
       "   'executionTimeMillisEstimate': 6},\n",
       "  {'$lookup': {'from': 'business',\n",
       "    'as': 'business_info',\n",
       "    'localField': 'business_id',\n",
       "    'foreignField': 'business_id'},\n",
       "   'totalDocsExamined': 7500,\n",
       "   'totalKeysExamined': 7500,\n",
       "   'collectionScans': 0,\n",
       "   'indexesUsed': ['business_id_1'],\n",
       "   'nReturned': 7500,\n",
       "   'executionTimeMillisEstimate': 382}],\n",
       " 'serverInfo': {'host': 'jupyter-ekakavetsis',\n",
       "  'port': 27017,\n",
       "  'version': '5.0.11',\n",
       "  'gitVersion': 'd08c3c41c105cde798ca934e3ac3426ac11b57c3'},\n",
       " 'serverParameters': {'internalQueryFacetBufferSizeBytes': 104857600,\n",
       "  'internalQueryFacetMaxOutputDocSizeBytes': 104857600,\n",
       "  'internalLookupStageIntermediateDocumentMaxSizeBytes': 104857600,\n",
       "  'internalDocumentSourceGroupMaxMemoryBytes': 104857600,\n",
       "  'internalQueryMaxBlockingSortMemoryUsageBytes': 104857600,\n",
       "  'internalQueryProhibitBlockingMergeOnMongoS': 0,\n",
       "  'internalQueryMaxAddToSetBytes': 104857600,\n",
       "  'internalDocumentSourceSetWindowFieldsMaxMemoryBytes': 104857600},\n",
       " 'command': {'aggregate': 'review',\n",
       "  'pipeline': [{'$lookup': {'from': 'business',\n",
       "     'localField': 'business_id',\n",
       "     'foreignField': 'business_id',\n",
       "     'as': 'business_info'}}],\n",
       "  'cursor': {},\n",
       "  '$db': 'yelp'},\n",
       " 'ok': 1.0}"
      ]
     },
     "execution_count": 93,
     "metadata": {},
     "output_type": "execute_result"
    }
   ],
   "source": [
    "mydb.command('explain', {'aggregate': 'review', 'pipeline': q2c_pipeline, 'cursor': {}}, verbosity='executionStats')"
   ]
  },
  {
   "cell_type": "markdown",
   "metadata": {
    "deletable": false,
    "editable": false
   },
   "source": [
    "<!-- BEGIN QUESTION -->\n",
    "\n",
    "<br>\n",
    "\n",
    "---\n",
    "### Question 2d\n",
    "\n",
    "In the last question, you performed equivalent left joins in both Postgres and Mongo. Now, examine their query plans, paying special attention to `executionTimeMillis`. Which join was faster? What gives that database system you chose an advantage over the other? Keep your response to at most three sentences."
   ]
  },
  {
   "cell_type": "markdown",
   "metadata": {},
   "source": [
    "The SQL join in Postgres was significantly faster, with an execution time of about 3.969 milliseconds, compared to MongoDB's join, which took approximately 382 milliseconds. Postgres's advantage stems from its highly optimized query planner that uses hash joins, which are extremely efficient for handling equi-joins on indexed columns. In contrast, MongoDB's `$lookup` stage, while powerful for integrating data across collections, typically performs less efficiently because it must execute a more resource-intensive operation to merge documents based on a specified condition, especially when handling large datasets or when the foreign collection is not properly indexed."
   ]
  },
  {
   "cell_type": "markdown",
   "metadata": {
    "deletable": false,
    "editable": false
   },
   "source": [
    "<!-- END QUESTION -->\n",
    "\n",
    "<hr style=\"border: 5px solid #003262;\" />\n",
    "<hr style=\"border: 1px solid #fdb515;\" />\n",
    "\n",
    "## Question 3: Dataframes / Pandas\n",
    "\n",
    "### Question 3a\n",
    "\n",
    "So far, we've talked about NoSQL / document databases like Mongo and relational databases like Postgres. Now, we will explore data transformation with a different data model: dataframes. Dataframes are similar to relations with some differences as we will dive into here. To that end, we will use Pandas which is a Python package that allows you to work with dataframes. Pandas is widely adopted by data scientists for data loading, wrangling, cleaning, and analysis. To start, let us export our MongoDB collections into Pandas using a function called `json_normalize`. We need to truncate\n",
    "`business` before we can use it to meet the memory constraints set by Jupyter. The variable `business_trunc` will contain the reference to the truncated business collection."
   ]
  },
  {
   "cell_type": "code",
   "execution_count": 94,
   "metadata": {},
   "outputs": [],
   "source": [
    "business_trunc = mydb[\"business_trunc\"]\n",
    "count = 0\n",
    "if business_trunc.count_documents({}) != 1000:\n",
    "    for document in business.find({}):\n",
    "        count += 1\n",
    "        business_trunc.insert_one(document)\n",
    "        if count == 1000:\n",
    "            break\n",
    "\n",
    "business_cursor = business_trunc.find({})\n",
    "review_cursor = mydb[\"reviews\"].find({})\n",
    "user_cursor = mydb[\"users\"].find({})\n",
    "\n",
    "# Load the collections into Pandas. \n",
    "from pandas import json_normalize\n",
    "user_df = json_normalize(user_cursor)\n",
    "review_df = json_normalize(review_cursor)\n",
    "business_df = json_normalize(business_cursor)"
   ]
  },
  {
   "cell_type": "markdown",
   "metadata": {},
   "source": [
    "For the rest of Question 3, please use the 3 dataframes we just created: `user_df`, `review_df`, and `business_df`. Let's take a look at the first 5 rows of `business_df`."
   ]
  },
  {
   "cell_type": "code",
   "execution_count": 95,
   "metadata": {},
   "outputs": [
    {
     "data": {
      "text/html": [
       "<div>\n",
       "<style scoped>\n",
       "    .dataframe tbody tr th:only-of-type {\n",
       "        vertical-align: middle;\n",
       "    }\n",
       "\n",
       "    .dataframe tbody tr th {\n",
       "        vertical-align: top;\n",
       "    }\n",
       "\n",
       "    .dataframe thead th {\n",
       "        text-align: right;\n",
       "    }\n",
       "</style>\n",
       "<table border=\"1\" class=\"dataframe\">\n",
       "  <thead>\n",
       "    <tr style=\"text-align: right;\">\n",
       "      <th></th>\n",
       "      <th>_id</th>\n",
       "      <th>business_id</th>\n",
       "      <th>name</th>\n",
       "      <th>address</th>\n",
       "      <th>city</th>\n",
       "      <th>state</th>\n",
       "      <th>postal_code</th>\n",
       "      <th>latitude</th>\n",
       "      <th>longitude</th>\n",
       "      <th>stars</th>\n",
       "      <th>...</th>\n",
       "      <th>attributes.GoodForDancing</th>\n",
       "      <th>attributes.BestNights</th>\n",
       "      <th>attributes.Music</th>\n",
       "      <th>attributes.BYOB</th>\n",
       "      <th>attributes.CoatCheck</th>\n",
       "      <th>attributes.Smoking</th>\n",
       "      <th>attributes.DriveThru</th>\n",
       "      <th>attributes.BYOBCorkage</th>\n",
       "      <th>attributes.Corkage</th>\n",
       "      <th>attributes.RestaurantsCounterService</th>\n",
       "    </tr>\n",
       "  </thead>\n",
       "  <tbody>\n",
       "    <tr>\n",
       "      <th>0</th>\n",
       "      <td>6627cd6c7ff727a30de2d5f5</td>\n",
       "      <td>6iYb2HFDywm3zjuRg0shjw</td>\n",
       "      <td>Oskar Blues Taproom</td>\n",
       "      <td>921 Pearl St</td>\n",
       "      <td>Boulder</td>\n",
       "      <td>CO</td>\n",
       "      <td>80302</td>\n",
       "      <td>40.017544</td>\n",
       "      <td>-105.283348</td>\n",
       "      <td>4.0</td>\n",
       "      <td>...</td>\n",
       "      <td>NaN</td>\n",
       "      <td>NaN</td>\n",
       "      <td>NaN</td>\n",
       "      <td>NaN</td>\n",
       "      <td>NaN</td>\n",
       "      <td>NaN</td>\n",
       "      <td>NaN</td>\n",
       "      <td>NaN</td>\n",
       "      <td>NaN</td>\n",
       "      <td>NaN</td>\n",
       "    </tr>\n",
       "    <tr>\n",
       "      <th>1</th>\n",
       "      <td>6627cd6c7ff727a30de2d5f6</td>\n",
       "      <td>tCbdrRPZA0oiIYSmHG3J0w</td>\n",
       "      <td>Flying Elephants at PDX</td>\n",
       "      <td>7000 NE Airport Way</td>\n",
       "      <td>Portland</td>\n",
       "      <td>OR</td>\n",
       "      <td>97218</td>\n",
       "      <td>45.588906</td>\n",
       "      <td>-122.593331</td>\n",
       "      <td>4.0</td>\n",
       "      <td>...</td>\n",
       "      <td>NaN</td>\n",
       "      <td>NaN</td>\n",
       "      <td>NaN</td>\n",
       "      <td>NaN</td>\n",
       "      <td>NaN</td>\n",
       "      <td>NaN</td>\n",
       "      <td>NaN</td>\n",
       "      <td>NaN</td>\n",
       "      <td>NaN</td>\n",
       "      <td>NaN</td>\n",
       "    </tr>\n",
       "    <tr>\n",
       "      <th>2</th>\n",
       "      <td>6627cd6c7ff727a30de2d5f7</td>\n",
       "      <td>bvN78flM8NLprQ1a1y5dRg</td>\n",
       "      <td>The Reclaimory</td>\n",
       "      <td>4720 Hawthorne Ave</td>\n",
       "      <td>Portland</td>\n",
       "      <td>OR</td>\n",
       "      <td>97214</td>\n",
       "      <td>45.511907</td>\n",
       "      <td>-122.613693</td>\n",
       "      <td>4.5</td>\n",
       "      <td>...</td>\n",
       "      <td>NaN</td>\n",
       "      <td>NaN</td>\n",
       "      <td>NaN</td>\n",
       "      <td>NaN</td>\n",
       "      <td>NaN</td>\n",
       "      <td>NaN</td>\n",
       "      <td>NaN</td>\n",
       "      <td>NaN</td>\n",
       "      <td>NaN</td>\n",
       "      <td>NaN</td>\n",
       "    </tr>\n",
       "    <tr>\n",
       "      <th>3</th>\n",
       "      <td>6627cd6c7ff727a30de2d5f8</td>\n",
       "      <td>oaepsyvc0J17qwi8cfrOWg</td>\n",
       "      <td>Great Clips</td>\n",
       "      <td>2566 Enterprise Rd</td>\n",
       "      <td>Orange City</td>\n",
       "      <td>FL</td>\n",
       "      <td>32763</td>\n",
       "      <td>28.914482</td>\n",
       "      <td>-81.295979</td>\n",
       "      <td>3.0</td>\n",
       "      <td>...</td>\n",
       "      <td>NaN</td>\n",
       "      <td>NaN</td>\n",
       "      <td>NaN</td>\n",
       "      <td>NaN</td>\n",
       "      <td>NaN</td>\n",
       "      <td>NaN</td>\n",
       "      <td>NaN</td>\n",
       "      <td>NaN</td>\n",
       "      <td>NaN</td>\n",
       "      <td>NaN</td>\n",
       "    </tr>\n",
       "    <tr>\n",
       "      <th>4</th>\n",
       "      <td>6627cd6c7ff727a30de2d5f9</td>\n",
       "      <td>PE9uqAjdw0E4-8mjGl3wVA</td>\n",
       "      <td>Crossfit Terminus</td>\n",
       "      <td>1046 Memorial Dr SE</td>\n",
       "      <td>Atlanta</td>\n",
       "      <td>GA</td>\n",
       "      <td>30316</td>\n",
       "      <td>33.747027</td>\n",
       "      <td>-84.353424</td>\n",
       "      <td>4.0</td>\n",
       "      <td>...</td>\n",
       "      <td>NaN</td>\n",
       "      <td>NaN</td>\n",
       "      <td>NaN</td>\n",
       "      <td>NaN</td>\n",
       "      <td>NaN</td>\n",
       "      <td>NaN</td>\n",
       "      <td>NaN</td>\n",
       "      <td>NaN</td>\n",
       "      <td>NaN</td>\n",
       "      <td>NaN</td>\n",
       "    </tr>\n",
       "    <tr>\n",
       "      <th>...</th>\n",
       "      <td>...</td>\n",
       "      <td>...</td>\n",
       "      <td>...</td>\n",
       "      <td>...</td>\n",
       "      <td>...</td>\n",
       "      <td>...</td>\n",
       "      <td>...</td>\n",
       "      <td>...</td>\n",
       "      <td>...</td>\n",
       "      <td>...</td>\n",
       "      <td>...</td>\n",
       "      <td>...</td>\n",
       "      <td>...</td>\n",
       "      <td>...</td>\n",
       "      <td>...</td>\n",
       "      <td>...</td>\n",
       "      <td>...</td>\n",
       "      <td>...</td>\n",
       "      <td>...</td>\n",
       "      <td>...</td>\n",
       "      <td>...</td>\n",
       "    </tr>\n",
       "    <tr>\n",
       "      <th>995</th>\n",
       "      <td>6627cd6c7ff727a30de2d9d8</td>\n",
       "      <td>HQ1fwOWzYK5zSxTGSwSvmw</td>\n",
       "      <td>Dunkin'</td>\n",
       "      <td>99 Cambridge St</td>\n",
       "      <td>Charlestown</td>\n",
       "      <td>MA</td>\n",
       "      <td>02129</td>\n",
       "      <td>42.382539</td>\n",
       "      <td>-71.079236</td>\n",
       "      <td>2.0</td>\n",
       "      <td>...</td>\n",
       "      <td>NaN</td>\n",
       "      <td>NaN</td>\n",
       "      <td>NaN</td>\n",
       "      <td>NaN</td>\n",
       "      <td>NaN</td>\n",
       "      <td>NaN</td>\n",
       "      <td>None</td>\n",
       "      <td>NaN</td>\n",
       "      <td>NaN</td>\n",
       "      <td>NaN</td>\n",
       "    </tr>\n",
       "    <tr>\n",
       "      <th>996</th>\n",
       "      <td>6627cd6c7ff727a30de2d9d9</td>\n",
       "      <td>LOiS95cRQbPrbRZ2-fMXbg</td>\n",
       "      <td>Shane's Rib Shack</td>\n",
       "      <td>1221 Caroline St</td>\n",
       "      <td>Atlanta</td>\n",
       "      <td>GA</td>\n",
       "      <td>30307</td>\n",
       "      <td>33.758258</td>\n",
       "      <td>-84.348474</td>\n",
       "      <td>3.0</td>\n",
       "      <td>...</td>\n",
       "      <td>NaN</td>\n",
       "      <td>NaN</td>\n",
       "      <td>NaN</td>\n",
       "      <td>NaN</td>\n",
       "      <td>NaN</td>\n",
       "      <td>NaN</td>\n",
       "      <td>NaN</td>\n",
       "      <td>NaN</td>\n",
       "      <td>NaN</td>\n",
       "      <td>NaN</td>\n",
       "    </tr>\n",
       "    <tr>\n",
       "      <th>997</th>\n",
       "      <td>6627cd6c7ff727a30de2d9da</td>\n",
       "      <td>9irir2PpYr_yY5lNWYqUWA</td>\n",
       "      <td>Subaru North Orlando</td>\n",
       "      <td>4113 S Orlando Dr</td>\n",
       "      <td>Sanford</td>\n",
       "      <td>FL</td>\n",
       "      <td>32773</td>\n",
       "      <td>28.749161</td>\n",
       "      <td>-81.291087</td>\n",
       "      <td>4.0</td>\n",
       "      <td>...</td>\n",
       "      <td>NaN</td>\n",
       "      <td>NaN</td>\n",
       "      <td>NaN</td>\n",
       "      <td>NaN</td>\n",
       "      <td>NaN</td>\n",
       "      <td>NaN</td>\n",
       "      <td>NaN</td>\n",
       "      <td>NaN</td>\n",
       "      <td>NaN</td>\n",
       "      <td>NaN</td>\n",
       "    </tr>\n",
       "    <tr>\n",
       "      <th>998</th>\n",
       "      <td>6627cd6c7ff727a30de2d9db</td>\n",
       "      <td>2cG2YiR8Tg-YCJJfaHJtYw</td>\n",
       "      <td>Elements Massage - Medford</td>\n",
       "      <td>40 High St</td>\n",
       "      <td>Medford</td>\n",
       "      <td>MA</td>\n",
       "      <td>02155</td>\n",
       "      <td>42.418388</td>\n",
       "      <td>-71.111116</td>\n",
       "      <td>4.0</td>\n",
       "      <td>...</td>\n",
       "      <td>NaN</td>\n",
       "      <td>NaN</td>\n",
       "      <td>NaN</td>\n",
       "      <td>NaN</td>\n",
       "      <td>NaN</td>\n",
       "      <td>NaN</td>\n",
       "      <td>NaN</td>\n",
       "      <td>NaN</td>\n",
       "      <td>NaN</td>\n",
       "      <td>NaN</td>\n",
       "    </tr>\n",
       "    <tr>\n",
       "      <th>999</th>\n",
       "      <td>6627cd6c7ff727a30de2d9dc</td>\n",
       "      <td>OhpdMOXon32xdJ0-OeL5-Q</td>\n",
       "      <td>Pirate's Cove</td>\n",
       "      <td>7417 NE Sandy Blvd</td>\n",
       "      <td>Portland</td>\n",
       "      <td>OR</td>\n",
       "      <td>97213</td>\n",
       "      <td>45.549482</td>\n",
       "      <td>-122.586522</td>\n",
       "      <td>3.5</td>\n",
       "      <td>...</td>\n",
       "      <td>NaN</td>\n",
       "      <td>NaN</td>\n",
       "      <td>NaN</td>\n",
       "      <td>NaN</td>\n",
       "      <td>NaN</td>\n",
       "      <td>NaN</td>\n",
       "      <td>NaN</td>\n",
       "      <td>NaN</td>\n",
       "      <td>NaN</td>\n",
       "      <td>NaN</td>\n",
       "    </tr>\n",
       "  </tbody>\n",
       "</table>\n",
       "<p>1000 rows × 58 columns</p>\n",
       "</div>"
      ],
      "text/plain": [
       "                          _id             business_id  \\\n",
       "0    6627cd6c7ff727a30de2d5f5  6iYb2HFDywm3zjuRg0shjw   \n",
       "1    6627cd6c7ff727a30de2d5f6  tCbdrRPZA0oiIYSmHG3J0w   \n",
       "2    6627cd6c7ff727a30de2d5f7  bvN78flM8NLprQ1a1y5dRg   \n",
       "3    6627cd6c7ff727a30de2d5f8  oaepsyvc0J17qwi8cfrOWg   \n",
       "4    6627cd6c7ff727a30de2d5f9  PE9uqAjdw0E4-8mjGl3wVA   \n",
       "..                        ...                     ...   \n",
       "995  6627cd6c7ff727a30de2d9d8  HQ1fwOWzYK5zSxTGSwSvmw   \n",
       "996  6627cd6c7ff727a30de2d9d9  LOiS95cRQbPrbRZ2-fMXbg   \n",
       "997  6627cd6c7ff727a30de2d9da  9irir2PpYr_yY5lNWYqUWA   \n",
       "998  6627cd6c7ff727a30de2d9db  2cG2YiR8Tg-YCJJfaHJtYw   \n",
       "999  6627cd6c7ff727a30de2d9dc  OhpdMOXon32xdJ0-OeL5-Q   \n",
       "\n",
       "                           name              address         city state  \\\n",
       "0           Oskar Blues Taproom         921 Pearl St      Boulder    CO   \n",
       "1       Flying Elephants at PDX  7000 NE Airport Way     Portland    OR   \n",
       "2                The Reclaimory   4720 Hawthorne Ave     Portland    OR   \n",
       "3                   Great Clips   2566 Enterprise Rd  Orange City    FL   \n",
       "4             Crossfit Terminus  1046 Memorial Dr SE      Atlanta    GA   \n",
       "..                          ...                  ...          ...   ...   \n",
       "995                     Dunkin'      99 Cambridge St  Charlestown    MA   \n",
       "996           Shane's Rib Shack     1221 Caroline St      Atlanta    GA   \n",
       "997        Subaru North Orlando    4113 S Orlando Dr      Sanford    FL   \n",
       "998  Elements Massage - Medford           40 High St      Medford    MA   \n",
       "999               Pirate's Cove   7417 NE Sandy Blvd     Portland    OR   \n",
       "\n",
       "    postal_code   latitude   longitude  stars  ...  attributes.GoodForDancing  \\\n",
       "0         80302  40.017544 -105.283348    4.0  ...                        NaN   \n",
       "1         97218  45.588906 -122.593331    4.0  ...                        NaN   \n",
       "2         97214  45.511907 -122.613693    4.5  ...                        NaN   \n",
       "3         32763  28.914482  -81.295979    3.0  ...                        NaN   \n",
       "4         30316  33.747027  -84.353424    4.0  ...                        NaN   \n",
       "..          ...        ...         ...    ...  ...                        ...   \n",
       "995       02129  42.382539  -71.079236    2.0  ...                        NaN   \n",
       "996       30307  33.758258  -84.348474    3.0  ...                        NaN   \n",
       "997       32773  28.749161  -81.291087    4.0  ...                        NaN   \n",
       "998       02155  42.418388  -71.111116    4.0  ...                        NaN   \n",
       "999       97213  45.549482 -122.586522    3.5  ...                        NaN   \n",
       "\n",
       "     attributes.BestNights attributes.Music attributes.BYOB  \\\n",
       "0                      NaN              NaN             NaN   \n",
       "1                      NaN              NaN             NaN   \n",
       "2                      NaN              NaN             NaN   \n",
       "3                      NaN              NaN             NaN   \n",
       "4                      NaN              NaN             NaN   \n",
       "..                     ...              ...             ...   \n",
       "995                    NaN              NaN             NaN   \n",
       "996                    NaN              NaN             NaN   \n",
       "997                    NaN              NaN             NaN   \n",
       "998                    NaN              NaN             NaN   \n",
       "999                    NaN              NaN             NaN   \n",
       "\n",
       "    attributes.CoatCheck attributes.Smoking attributes.DriveThru  \\\n",
       "0                    NaN                NaN                  NaN   \n",
       "1                    NaN                NaN                  NaN   \n",
       "2                    NaN                NaN                  NaN   \n",
       "3                    NaN                NaN                  NaN   \n",
       "4                    NaN                NaN                  NaN   \n",
       "..                   ...                ...                  ...   \n",
       "995                  NaN                NaN                 None   \n",
       "996                  NaN                NaN                  NaN   \n",
       "997                  NaN                NaN                  NaN   \n",
       "998                  NaN                NaN                  NaN   \n",
       "999                  NaN                NaN                  NaN   \n",
       "\n",
       "    attributes.BYOBCorkage attributes.Corkage  \\\n",
       "0                      NaN                NaN   \n",
       "1                      NaN                NaN   \n",
       "2                      NaN                NaN   \n",
       "3                      NaN                NaN   \n",
       "4                      NaN                NaN   \n",
       "..                     ...                ...   \n",
       "995                    NaN                NaN   \n",
       "996                    NaN                NaN   \n",
       "997                    NaN                NaN   \n",
       "998                    NaN                NaN   \n",
       "999                    NaN                NaN   \n",
       "\n",
       "    attributes.RestaurantsCounterService  \n",
       "0                                    NaN  \n",
       "1                                    NaN  \n",
       "2                                    NaN  \n",
       "3                                    NaN  \n",
       "4                                    NaN  \n",
       "..                                   ...  \n",
       "995                                  NaN  \n",
       "996                                  NaN  \n",
       "997                                  NaN  \n",
       "998                                  NaN  \n",
       "999                                  NaN  \n",
       "\n",
       "[1000 rows x 58 columns]"
      ]
     },
     "execution_count": 95,
     "metadata": {},
     "output_type": "execute_result"
    }
   ],
   "source": [
    "business_df"
   ]
  },
  {
   "cell_type": "markdown",
   "metadata": {
    "deletable": false,
    "editable": false
   },
   "source": [
    "## <!-- BEGIN QUESTION -->\n",
    "\n",
    "What do you notice about how the columns of `business_df` are constructed? How are values that are not found in every document handled in the pandas dataframe? Compare and contrast this dataframe representation with the document representation we saw with Mongo. Keep your response to at most two sentences.\n"
   ]
  },
  {
   "cell_type": "markdown",
   "metadata": {},
   "source": [
    "In the business_df DataFrame, columns are constructed to match the fields from the business documents in MongoDB, and values not found in every document appear as NaN (Not a Number) in the DataFrame, indicating missing or undefined values. This contrasts with MongoDB's document representation, where fields absent in a document simply do not appear, leading to a more flexible and less space-consuming structure compared to the fixed columnar structure of a pandas DataFrame, which must allocate space for every column regardless of whether a value is present in each row."
   ]
  },
  {
   "cell_type": "markdown",
   "metadata": {
    "deletable": false,
    "editable": false
   },
   "source": [
    "<!-- END QUESTION -->\n",
    "\n",
    "<br>\n",
    "\n",
    "---\n",
    "### Question 3b\n",
    "\n",
    "In the previous question, we talked about how Mongo and Postgres approach joins. Pandas is also capable of performing joins using the [merge()](https://pandas.pydata.org/docs/reference/api/pandas.DataFrame.merge.html) function! For this task, perform a inner join on `business_df` with itself on `stars`. The final dataframe should be saved to a variable called `result_3b` and should only contain 3 columns in this particular order: the name of the first restaurant, the name of the second restaurant, and the number of the stars. The column names can be arbitrary.\n",
    "\n",
    "**Hint:** Check out [this tutorial](https://pandas.pydata.org/docs/getting_started/intro_tutorials/03_subset_data.html) on selecting a subset of the Dataframe. This will be helpful in the rest of Question 3 as well!"
   ]
  },
  {
   "cell_type": "code",
   "execution_count": 96,
   "metadata": {
    "tags": []
   },
   "outputs": [
    {
     "data": {
      "text/html": [
       "<div>\n",
       "<style scoped>\n",
       "    .dataframe tbody tr th:only-of-type {\n",
       "        vertical-align: middle;\n",
       "    }\n",
       "\n",
       "    .dataframe tbody tr th {\n",
       "        vertical-align: top;\n",
       "    }\n",
       "\n",
       "    .dataframe thead th {\n",
       "        text-align: right;\n",
       "    }\n",
       "</style>\n",
       "<table border=\"1\" class=\"dataframe\">\n",
       "  <thead>\n",
       "    <tr style=\"text-align: right;\">\n",
       "      <th></th>\n",
       "      <th>name_first</th>\n",
       "      <th>name_second</th>\n",
       "      <th>stars</th>\n",
       "    </tr>\n",
       "  </thead>\n",
       "  <tbody>\n",
       "    <tr>\n",
       "      <th>0</th>\n",
       "      <td>Oskar Blues Taproom</td>\n",
       "      <td>Oskar Blues Taproom</td>\n",
       "      <td>4.0</td>\n",
       "    </tr>\n",
       "    <tr>\n",
       "      <th>1</th>\n",
       "      <td>Oskar Blues Taproom</td>\n",
       "      <td>Flying Elephants at PDX</td>\n",
       "      <td>4.0</td>\n",
       "    </tr>\n",
       "    <tr>\n",
       "      <th>2</th>\n",
       "      <td>Oskar Blues Taproom</td>\n",
       "      <td>Crossfit Terminus</td>\n",
       "      <td>4.0</td>\n",
       "    </tr>\n",
       "    <tr>\n",
       "      <th>3</th>\n",
       "      <td>Oskar Blues Taproom</td>\n",
       "      <td>Capital City Barber Shop</td>\n",
       "      <td>4.0</td>\n",
       "    </tr>\n",
       "    <tr>\n",
       "      <th>4</th>\n",
       "      <td>Oskar Blues Taproom</td>\n",
       "      <td>Star Kreations Salon and Spa</td>\n",
       "      <td>4.0</td>\n",
       "    </tr>\n",
       "    <tr>\n",
       "      <th>...</th>\n",
       "      <td>...</td>\n",
       "      <td>...</td>\n",
       "      <td>...</td>\n",
       "    </tr>\n",
       "    <tr>\n",
       "      <th>153959</th>\n",
       "      <td>White Egret Farm</td>\n",
       "      <td>Bluffs at Town Lake</td>\n",
       "      <td>1.5</td>\n",
       "    </tr>\n",
       "    <tr>\n",
       "      <th>153960</th>\n",
       "      <td>White Egret Farm</td>\n",
       "      <td>Taco Cabana</td>\n",
       "      <td>1.5</td>\n",
       "    </tr>\n",
       "    <tr>\n",
       "      <th>153961</th>\n",
       "      <td>White Egret Farm</td>\n",
       "      <td>Shaws</td>\n",
       "      <td>1.5</td>\n",
       "    </tr>\n",
       "    <tr>\n",
       "      <th>153962</th>\n",
       "      <td>White Egret Farm</td>\n",
       "      <td>Steak ’n Shake</td>\n",
       "      <td>1.5</td>\n",
       "    </tr>\n",
       "    <tr>\n",
       "      <th>153963</th>\n",
       "      <td>White Egret Farm</td>\n",
       "      <td>White Egret Farm</td>\n",
       "      <td>1.5</td>\n",
       "    </tr>\n",
       "  </tbody>\n",
       "</table>\n",
       "<p>153964 rows × 3 columns</p>\n",
       "</div>"
      ],
      "text/plain": [
       "                 name_first                   name_second  stars\n",
       "0       Oskar Blues Taproom           Oskar Blues Taproom    4.0\n",
       "1       Oskar Blues Taproom       Flying Elephants at PDX    4.0\n",
       "2       Oskar Blues Taproom             Crossfit Terminus    4.0\n",
       "3       Oskar Blues Taproom      Capital City Barber Shop    4.0\n",
       "4       Oskar Blues Taproom  Star Kreations Salon and Spa    4.0\n",
       "...                     ...                           ...    ...\n",
       "153959     White Egret Farm           Bluffs at Town Lake    1.5\n",
       "153960     White Egret Farm                   Taco Cabana    1.5\n",
       "153961     White Egret Farm                         Shaws    1.5\n",
       "153962     White Egret Farm                Steak ’n Shake    1.5\n",
       "153963     White Egret Farm              White Egret Farm    1.5\n",
       "\n",
       "[153964 rows x 3 columns]"
      ]
     },
     "execution_count": 96,
     "metadata": {},
     "output_type": "execute_result"
    }
   ],
   "source": [
    "result_3b = pd.merge(business_df, business_df, on='stars', suffixes=('_first', '_second'))\n",
    "\n",
    "# Select only the required columns and rename them for clarity\n",
    "result_3b = result_3b[['name_first', 'name_second', 'stars']]\n",
    "result_3b"
   ]
  },
  {
   "cell_type": "code",
   "execution_count": 97,
   "metadata": {},
   "outputs": [],
   "source": [
    "# Do not delete/edit this cell!\n",
    "# You must run this cell before running the autograder.\n",
    "result_3b.columns = ['first', 'second', 'stars']\n",
    "grading_util.save_results(\"result_3b\", result_3b.sort_values(['first', 'second', 'stars'])[:50]);"
   ]
  },
  {
   "cell_type": "code",
   "execution_count": 98,
   "metadata": {
    "deletable": false,
    "editable": false
   },
   "outputs": [
    {
     "data": {
      "text/html": [
       "<p><strong><pre style='display: inline;'>q3b</pre></strong> passed! 🌟</p>"
      ],
      "text/plain": [
       "q3b results: All test cases passed!"
      ]
     },
     "execution_count": 98,
     "metadata": {},
     "output_type": "execute_result"
    }
   ],
   "source": [
    "grader.check(\"q3b\")"
   ]
  },
  {
   "cell_type": "markdown",
   "metadata": {},
   "source": [
    "<br>\n",
    "\n",
    "---\n",
    "### Question 3c\n",
    "\n",
    "Due to the nested representation of the data, there are a lot of missing fields with NaN values in the `business_df` dataframe as you may have noticed in 3a. Construct a dataframe `missing_value_df` with two columns: `column_name` and `percent_missing`. `percent_missing` should be the percentage of NaN values in the corresponding column in `business_df`.\n",
    "\n",
    "**Hint:** use Pandas' [isnull()](https://pandas.pydata.org/docs/reference/api/pandas.DataFrame.isnull.html) function followed by sum()."
   ]
  },
  {
   "cell_type": "code",
   "execution_count": 99,
   "metadata": {
    "scrolled": true,
    "tags": []
   },
   "outputs": [
    {
     "data": {
      "text/html": [
       "<div>\n",
       "<style scoped>\n",
       "    .dataframe tbody tr th:only-of-type {\n",
       "        vertical-align: middle;\n",
       "    }\n",
       "\n",
       "    .dataframe tbody tr th {\n",
       "        vertical-align: top;\n",
       "    }\n",
       "\n",
       "    .dataframe thead th {\n",
       "        text-align: right;\n",
       "    }\n",
       "</style>\n",
       "<table border=\"1\" class=\"dataframe\">\n",
       "  <thead>\n",
       "    <tr style=\"text-align: right;\">\n",
       "      <th></th>\n",
       "      <th>column_name</th>\n",
       "      <th>percent_missing</th>\n",
       "    </tr>\n",
       "  </thead>\n",
       "  <tbody>\n",
       "    <tr>\n",
       "      <th>18</th>\n",
       "      <td>attributes.RestaurantsReservations</td>\n",
       "      <td>72.8</td>\n",
       "    </tr>\n",
       "    <tr>\n",
       "      <th>19</th>\n",
       "      <td>attributes.WheelchairAccessible</td>\n",
       "      <td>80.0</td>\n",
       "    </tr>\n",
       "  </tbody>\n",
       "</table>\n",
       "</div>"
      ],
      "text/plain": [
       "                           column_name  percent_missing\n",
       "18  attributes.RestaurantsReservations             72.8\n",
       "19     attributes.WheelchairAccessible             80.0"
      ]
     },
     "execution_count": 99,
     "metadata": {},
     "output_type": "execute_result"
    }
   ],
   "source": [
    "# Calculate the percentage of missing values for each column\n",
    "percent_missing = business_df.isnull().sum() * 100 / len(business_df)\n",
    "\n",
    "missing_value_df = pd.DataFrame({\n",
    "    'column_name': business_df.columns,\n",
    "    'percent_missing': percent_missing\n",
    "})\n",
    "missing_value_df.reset_index(drop=True, inplace=True)\n",
    "missing_value_df[18:20]"
   ]
  },
  {
   "cell_type": "code",
   "execution_count": 100,
   "metadata": {
    "tags": []
   },
   "outputs": [],
   "source": [
    "# Do not delete/edit this cell!\n",
    "# You must run this cell before running the autograder.\n",
    "grading_util.save_results(\"result_3c\", missing_value_df);"
   ]
  },
  {
   "cell_type": "code",
   "execution_count": 101,
   "metadata": {
    "deletable": false,
    "editable": false
   },
   "outputs": [
    {
     "data": {
      "text/html": [
       "<p><strong><pre style='display: inline;'>q3c</pre></strong> passed! 🎉</p>"
      ],
      "text/plain": [
       "q3c results: All test cases passed!"
      ]
     },
     "execution_count": 101,
     "metadata": {},
     "output_type": "execute_result"
    }
   ],
   "source": [
    "grader.check(\"q3c\")"
   ]
  },
  {
   "cell_type": "markdown",
   "metadata": {},
   "source": [
    "<br>\n",
    "\n",
    "---\n",
    "### Question 3d\n",
    "\n",
    "Plot a histogram distribution of the percentage of NaN values across all columns (via Pandas [hist()](https://pandas.pydata.org/docs/reference/api/pandas.DataFrame.hist.html) function). Don't worry about putting titles / making it look nice—we won't be grading the plot."
   ]
  },
  {
   "cell_type": "code",
   "execution_count": 102,
   "metadata": {
    "tags": []
   },
   "outputs": [
    {
     "data": {
      "image/png": "[encoded data removed]",
      "text/plain": [
       "<Figure size 640x480 with 1 Axes>"
      ]
     },
     "metadata": {},
     "output_type": "display_data"
    }
   ],
   "source": [
    "import matplotlib.pyplot as plt\n",
    "# Plotting the histogram\n",
    "percent_missing.hist(bins=10)  # You can adjust the number of bins for finer detail or broader overview\n",
    "\n",
    "# Adding labels and titles for clarity, even if not required\n",
    "plt.title('Histogram of NaN Value Percentages Across Columns')\n",
    "plt.xlabel('Percentage of NaN Values')\n",
    "plt.ylabel('Frequency of Columns')\n",
    "\n",
    "# Show the plot\n",
    "plt.show()"
   ]
  },
  {
   "cell_type": "markdown",
   "metadata": {
    "deletable": false,
    "editable": false
   },
   "source": [
    "Examine the histogram that you just plotted. How many columns are 90%+ NaN? Input your answer into `result_q3d` as an integer (e.g. if your answer is 6, then **explicitly** declare/hard code `result_q3d = 6`. Do not refer to any values in a dataframe; self-created dataframes are not saved in the export so any references to them will not work)"
   ]
  },
  {
   "cell_type": "code",
   "execution_count": 103,
   "metadata": {
    "tags": []
   },
   "outputs": [],
   "source": [
    "result_q3d = 16"
   ]
  },
  {
   "cell_type": "code",
   "execution_count": 104,
   "metadata": {
    "deletable": false,
    "editable": false
   },
   "outputs": [
    {
     "data": {
      "text/html": [
       "<p><strong><pre style='display: inline;'>q3d</pre></strong> passed! 🙌</p>"
      ],
      "text/plain": [
       "q3d results: All test cases passed!"
      ]
     },
     "execution_count": 104,
     "metadata": {},
     "output_type": "execute_result"
    }
   ],
   "source": [
    "grader.check(\"q3d\")"
   ]
  },
  {
   "cell_type": "markdown",
   "metadata": {},
   "source": [
    "<br>\n",
    "\n",
    "---\n",
    "### Question 3e\n",
    "\n",
    "Let us now alter `business_df` to exclude the columns with more than 80%+ null values (keep columns with 80% null values or less). This likely means the corresponding attributes are not an important factor for most businesses so we can get rid of them in our `business_df`. Create a new dataframe called `important_attribute_business_df` which only contains these columns.\n",
    "\n",
    "**Hint:** check out [this section](https://pandas.pydata.org/docs/getting_started/intro_tutorials/03_subset_data.html#how-do-i-select-specific-rows-and-columns-from-a-dataframe) from the tutorial linked in Q3b."
   ]
  },
  {
   "cell_type": "code",
   "execution_count": 105,
   "metadata": {
    "tags": []
   },
   "outputs": [
    {
     "data": {
      "text/html": [
       "<div>\n",
       "<style scoped>\n",
       "    .dataframe tbody tr th:only-of-type {\n",
       "        vertical-align: middle;\n",
       "    }\n",
       "\n",
       "    .dataframe tbody tr th {\n",
       "        vertical-align: top;\n",
       "    }\n",
       "\n",
       "    .dataframe thead th {\n",
       "        text-align: right;\n",
       "    }\n",
       "</style>\n",
       "<table border=\"1\" class=\"dataframe\">\n",
       "  <thead>\n",
       "    <tr style=\"text-align: right;\">\n",
       "      <th></th>\n",
       "      <th>_id</th>\n",
       "      <th>business_id</th>\n",
       "      <th>name</th>\n",
       "      <th>address</th>\n",
       "      <th>city</th>\n",
       "      <th>state</th>\n",
       "      <th>postal_code</th>\n",
       "      <th>latitude</th>\n",
       "      <th>longitude</th>\n",
       "      <th>stars</th>\n",
       "      <th>...</th>\n",
       "      <th>attributes.RestaurantsDelivery</th>\n",
       "      <th>hours.Monday</th>\n",
       "      <th>hours.Tuesday</th>\n",
       "      <th>hours.Wednesday</th>\n",
       "      <th>hours.Thursday</th>\n",
       "      <th>hours.Friday</th>\n",
       "      <th>hours.Saturday</th>\n",
       "      <th>hours.Sunday</th>\n",
       "      <th>attributes.GoodForKids</th>\n",
       "      <th>attributes.ByAppointmentOnly</th>\n",
       "    </tr>\n",
       "  </thead>\n",
       "  <tbody>\n",
       "    <tr>\n",
       "      <th>0</th>\n",
       "      <td>6627cd6c7ff727a30de2d5f5</td>\n",
       "      <td>6iYb2HFDywm3zjuRg0shjw</td>\n",
       "      <td>Oskar Blues Taproom</td>\n",
       "      <td>921 Pearl St</td>\n",
       "      <td>Boulder</td>\n",
       "      <td>CO</td>\n",
       "      <td>80302</td>\n",
       "      <td>40.017544</td>\n",
       "      <td>-105.283348</td>\n",
       "      <td>4.0</td>\n",
       "      <td>...</td>\n",
       "      <td>None</td>\n",
       "      <td>11:0-23:0</td>\n",
       "      <td>11:0-23:0</td>\n",
       "      <td>11:0-23:0</td>\n",
       "      <td>11:0-23:0</td>\n",
       "      <td>11:0-23:0</td>\n",
       "      <td>11:0-23:0</td>\n",
       "      <td>11:0-23:0</td>\n",
       "      <td>NaN</td>\n",
       "      <td>NaN</td>\n",
       "    </tr>\n",
       "    <tr>\n",
       "      <th>1</th>\n",
       "      <td>6627cd6c7ff727a30de2d5f6</td>\n",
       "      <td>tCbdrRPZA0oiIYSmHG3J0w</td>\n",
       "      <td>Flying Elephants at PDX</td>\n",
       "      <td>7000 NE Airport Way</td>\n",
       "      <td>Portland</td>\n",
       "      <td>OR</td>\n",
       "      <td>97218</td>\n",
       "      <td>45.588906</td>\n",
       "      <td>-122.593331</td>\n",
       "      <td>4.0</td>\n",
       "      <td>...</td>\n",
       "      <td>False</td>\n",
       "      <td>5:0-18:0</td>\n",
       "      <td>5:0-17:0</td>\n",
       "      <td>5:0-18:0</td>\n",
       "      <td>5:0-18:0</td>\n",
       "      <td>5:0-18:0</td>\n",
       "      <td>5:0-18:0</td>\n",
       "      <td>5:0-18:0</td>\n",
       "      <td>True</td>\n",
       "      <td>False</td>\n",
       "    </tr>\n",
       "    <tr>\n",
       "      <th>2</th>\n",
       "      <td>6627cd6c7ff727a30de2d5f7</td>\n",
       "      <td>bvN78flM8NLprQ1a1y5dRg</td>\n",
       "      <td>The Reclaimory</td>\n",
       "      <td>4720 Hawthorne Ave</td>\n",
       "      <td>Portland</td>\n",
       "      <td>OR</td>\n",
       "      <td>97214</td>\n",
       "      <td>45.511907</td>\n",
       "      <td>-122.613693</td>\n",
       "      <td>4.5</td>\n",
       "      <td>...</td>\n",
       "      <td>NaN</td>\n",
       "      <td>NaN</td>\n",
       "      <td>NaN</td>\n",
       "      <td>NaN</td>\n",
       "      <td>11:0-18:0</td>\n",
       "      <td>11:0-18:0</td>\n",
       "      <td>11:0-18:0</td>\n",
       "      <td>11:0-18:0</td>\n",
       "      <td>NaN</td>\n",
       "      <td>False</td>\n",
       "    </tr>\n",
       "    <tr>\n",
       "      <th>3</th>\n",
       "      <td>6627cd6c7ff727a30de2d5f8</td>\n",
       "      <td>oaepsyvc0J17qwi8cfrOWg</td>\n",
       "      <td>Great Clips</td>\n",
       "      <td>2566 Enterprise Rd</td>\n",
       "      <td>Orange City</td>\n",
       "      <td>FL</td>\n",
       "      <td>32763</td>\n",
       "      <td>28.914482</td>\n",
       "      <td>-81.295979</td>\n",
       "      <td>3.0</td>\n",
       "      <td>...</td>\n",
       "      <td>NaN</td>\n",
       "      <td>NaN</td>\n",
       "      <td>NaN</td>\n",
       "      <td>NaN</td>\n",
       "      <td>NaN</td>\n",
       "      <td>NaN</td>\n",
       "      <td>NaN</td>\n",
       "      <td>NaN</td>\n",
       "      <td>True</td>\n",
       "      <td>False</td>\n",
       "    </tr>\n",
       "    <tr>\n",
       "      <th>4</th>\n",
       "      <td>6627cd6c7ff727a30de2d5f9</td>\n",
       "      <td>PE9uqAjdw0E4-8mjGl3wVA</td>\n",
       "      <td>Crossfit Terminus</td>\n",
       "      <td>1046 Memorial Dr SE</td>\n",
       "      <td>Atlanta</td>\n",
       "      <td>GA</td>\n",
       "      <td>30316</td>\n",
       "      <td>33.747027</td>\n",
       "      <td>-84.353424</td>\n",
       "      <td>4.0</td>\n",
       "      <td>...</td>\n",
       "      <td>NaN</td>\n",
       "      <td>16:0-19:0</td>\n",
       "      <td>16:0-19:0</td>\n",
       "      <td>16:0-19:0</td>\n",
       "      <td>16:0-19:0</td>\n",
       "      <td>16:0-19:0</td>\n",
       "      <td>9:0-11:0</td>\n",
       "      <td>NaN</td>\n",
       "      <td>False</td>\n",
       "      <td>NaN</td>\n",
       "    </tr>\n",
       "  </tbody>\n",
       "</table>\n",
       "<p>5 rows × 39 columns</p>\n",
       "</div>"
      ],
      "text/plain": [
       "                        _id             business_id                     name  \\\n",
       "0  6627cd6c7ff727a30de2d5f5  6iYb2HFDywm3zjuRg0shjw      Oskar Blues Taproom   \n",
       "1  6627cd6c7ff727a30de2d5f6  tCbdrRPZA0oiIYSmHG3J0w  Flying Elephants at PDX   \n",
       "2  6627cd6c7ff727a30de2d5f7  bvN78flM8NLprQ1a1y5dRg           The Reclaimory   \n",
       "3  6627cd6c7ff727a30de2d5f8  oaepsyvc0J17qwi8cfrOWg              Great Clips   \n",
       "4  6627cd6c7ff727a30de2d5f9  PE9uqAjdw0E4-8mjGl3wVA        Crossfit Terminus   \n",
       "\n",
       "               address         city state postal_code   latitude   longitude  \\\n",
       "0         921 Pearl St      Boulder    CO       80302  40.017544 -105.283348   \n",
       "1  7000 NE Airport Way     Portland    OR       97218  45.588906 -122.593331   \n",
       "2   4720 Hawthorne Ave     Portland    OR       97214  45.511907 -122.613693   \n",
       "3   2566 Enterprise Rd  Orange City    FL       32763  28.914482  -81.295979   \n",
       "4  1046 Memorial Dr SE      Atlanta    GA       30316  33.747027  -84.353424   \n",
       "\n",
       "   stars  ...  attributes.RestaurantsDelivery  hours.Monday hours.Tuesday  \\\n",
       "0    4.0  ...                            None     11:0-23:0     11:0-23:0   \n",
       "1    4.0  ...                           False      5:0-18:0      5:0-17:0   \n",
       "2    4.5  ...                             NaN           NaN           NaN   \n",
       "3    3.0  ...                             NaN           NaN           NaN   \n",
       "4    4.0  ...                             NaN     16:0-19:0     16:0-19:0   \n",
       "\n",
       "  hours.Wednesday hours.Thursday hours.Friday hours.Saturday hours.Sunday  \\\n",
       "0       11:0-23:0      11:0-23:0    11:0-23:0      11:0-23:0    11:0-23:0   \n",
       "1        5:0-18:0       5:0-18:0     5:0-18:0       5:0-18:0     5:0-18:0   \n",
       "2             NaN      11:0-18:0    11:0-18:0      11:0-18:0    11:0-18:0   \n",
       "3             NaN            NaN          NaN            NaN          NaN   \n",
       "4       16:0-19:0      16:0-19:0    16:0-19:0       9:0-11:0          NaN   \n",
       "\n",
       "  attributes.GoodForKids attributes.ByAppointmentOnly  \n",
       "0                    NaN                          NaN  \n",
       "1                   True                        False  \n",
       "2                    NaN                        False  \n",
       "3                   True                        False  \n",
       "4                  False                          NaN  \n",
       "\n",
       "[5 rows x 39 columns]"
      ]
     },
     "execution_count": 105,
     "metadata": {},
     "output_type": "execute_result"
    }
   ],
   "source": [
    "columns_to_keep = percent_missing[percent_missing <= 80].index\n",
    "\n",
    "# Use these columns to create the new DataFrame\n",
    "important_attribute_business_df = business_df[columns_to_keep]\n",
    "important_attribute_business_df.head()"
   ]
  },
  {
   "cell_type": "code",
   "execution_count": 106,
   "metadata": {
    "tags": []
   },
   "outputs": [],
   "source": [
    "# Do not delete/edit this cell!\n",
    "# You must run this cell before running the autograder.\n",
    "grading_util.save_results(\"result_3e\", important_attribute_business_df);"
   ]
  },
  {
   "cell_type": "code",
   "execution_count": 107,
   "metadata": {
    "deletable": false,
    "editable": false
   },
   "outputs": [
    {
     "data": {
      "text/html": [
       "<p><strong><pre style='display: inline;'>q3e</pre></strong> passed! 🙌</p>"
      ],
      "text/plain": [
       "q3e results: All test cases passed!"
      ]
     },
     "execution_count": 107,
     "metadata": {},
     "output_type": "execute_result"
    }
   ],
   "source": [
    "grader.check(\"q3e\")"
   ]
  },
  {
   "cell_type": "markdown",
   "metadata": {},
   "source": [
    "<br>\n",
    "\n",
    "---\n",
    "### Question 3f\n",
    "\n",
    "At this point, you have had experience with manipulating data on Mongo, Postgres, and Pandas. In this question, we will provide 3 scenarios and using the lessons you've learned so far, please specify which of the three (Mongo, Postgres, or Pandas) would work best for this specific use case.\n",
    "\n",
    "1. You are doing a data journalism piece on college sports. You collect a list of colleges and for each collegiate sport program within that college, you find the budget assigned for that program. Each college may offer a different variety of sports programs. You have a choice between the following:\n",
    "\n",
    "    A) Representing this data in JSON (e.g. \n",
    "    ```\n",
    "    {\n",
    "        \"UC Berkeley\": {\n",
    "            \"football\": \"10000000\", \n",
    "            \"wrestling\": \"344582\", \n",
    "            ...}\n",
    "    }\n",
    "    ```\n",
    "    ) and importing into Mongo.\n",
    "    \n",
    "    B) Representing this data as a schema in Postgres where the columns are the names of the sports.\n",
    "    \n",
    "    C) Representing this data as a dataframe in Pandas where the columns are the names of the sports.\n",
    "\n",
    "You would like to find the aggregate of budgets across different sports (average, sum, median, mode). What would be the best option for storing this data?\n",
    "\n",
    "**NOTE**: Your answer should look like `q3fi_str = ['A']` or `q3fi_str = ['B']` or `q3fi_str = ['C']`.\n"
   ]
  },
  {
   "cell_type": "code",
   "execution_count": 108,
   "metadata": {
    "tags": []
   },
   "outputs": [],
   "source": [
    "q3fi_str = [\"C\"]"
   ]
  },
  {
   "cell_type": "code",
   "execution_count": 109,
   "metadata": {
    "deletable": false,
    "editable": false
   },
   "outputs": [
    {
     "data": {
      "text/html": [
       "<p><strong><pre style='display: inline;'>q3fi</pre></strong> passed! 🎉</p>"
      ],
      "text/plain": [
       "q3fi results: All test cases passed!"
      ]
     },
     "execution_count": 109,
     "metadata": {},
     "output_type": "execute_result"
    }
   ],
   "source": [
    "grader.check(\"q3fi\")"
   ]
  },
  {
   "cell_type": "markdown",
   "metadata": {},
   "source": [
    "2. You would now like to investigate what effect does budget have on student-athlete scholarships. After doing some research, you find a dataset that contains a list of every single athlete at every single college and their sport and scholarship levels (this is a massive 10GB+ dataset with millions of rows). You find another dataset that contains a list of colleges, their sports programs, and the program budget. This is another massive dataset with hundreds of thousands of rows. You would like to perform an inner join between the two datasets on school and program so you can view each student-athlete's scholarship with their sport's budget. You have a choice between the following:\n",
    "\n",
    "    A) Representing each dataset in JSON (e.g. \n",
    "    ```\n",
    "    {\"athletes\": [\n",
    "        {\"Chase Garbers\": {\n",
    "            \"school\": \"UC Berkeley\", \n",
    "            \"scholarship\": \"full\", \n",
    "            \"sport\": \"football\", \n",
    "            ...\n",
    "            }\n",
    "        }, \n",
    "        ...\n",
    "    ]}\n",
    "    ```\n",
    "    and \n",
    "    ```\n",
    "    {\"schools\": [\n",
    "        {\"UC Berkeley\": {\n",
    "            \"football\": {\n",
    "                \"budget\": \"10000000\"\n",
    "             }, \n",
    "             ...\n",
    "             }\n",
    "        }, \n",
    "        ...\n",
    "     ]}\n",
    "     ```\n",
    "    ), importing into Mongo, and doing a join there.\n",
    "    \n",
    "    B) Representing this data as 2 schemas in Postgres where the columns for the first schema are \n",
    "    [`student_name`, `school`, `sport`, `scholarship`] and for the second [`school`, `sport`, `budget`].\n",
    "    \n",
    "    C) Representing this data as 2 dataframes in Pandas with the same columns as Postgres.\n",
    "\n",
    "What would be the best option for storing this data?\n",
    "\n",
    "**NOTE**: Your answer should look like `q3fii_str = ['A']` or `q3fii_str = ['B']` or `q3fii_str = ['C']` or `q3fii_str = ['D']`\n"
   ]
  },
  {
   "cell_type": "code",
   "execution_count": 110,
   "metadata": {
    "tags": []
   },
   "outputs": [],
   "source": [
    "q3fii_str = ['B']"
   ]
  },
  {
   "cell_type": "code",
   "execution_count": 111,
   "metadata": {
    "deletable": false,
    "editable": false
   },
   "outputs": [
    {
     "data": {
      "text/html": [
       "<p><strong><pre style='display: inline;'>q3fii</pre></strong> passed! 🙌</p>"
      ],
      "text/plain": [
       "q3fii results: All test cases passed!"
      ]
     },
     "execution_count": 111,
     "metadata": {},
     "output_type": "execute_result"
    }
   ],
   "source": [
    "grader.check(\"q3fii\")"
   ]
  },
  {
   "cell_type": "markdown",
   "metadata": {},
   "source": [
    "3. Finally, you are ready to start writing your article! You decide to focus on just the data from UC Berkeley. You have access to a dataset of just UC Berkeley athletes along with their sports and scholarship levels. The scholarship level data was improperly cleaned: some scholarships are recorded as strings \"full\", \"half\", or \"none\" and some are recorded as integer percentages 0-100. You would like to provide this data to your readers in a format that is susceptible to easy visualizations: e.g. graphs that show how many athletes have a full vs. half vs. no scholarship, which sports have the highest percentages of athletes with full scholarships etc. What is the best way to store this data for this purpose?\n",
    "\n",
    "    A) Represent the dataset in JSON e.g.\n",
    "    ```\n",
    "    {\"athletes\": [\n",
    "        {\n",
    "           \"Chase Garbers\": {\n",
    "             \"scholarship\": \"full\", \n",
    "             \"sport\": \"football\"\n",
    "           }\n",
    "        },\n",
    "        {\n",
    "            \"Danielle Vosk\": {\n",
    "              \"scholarship\": 25,\n",
    "              \"sport\": \"basketball\"\n",
    "            }\n",
    "        },\n",
    "        ...\n",
    "        ]\n",
    "    }\n",
    "    ```\n",
    "    B) Represent this data as a schema in Postgres where the columns are [`student_name`, `sport`, `scholarship`]\n",
    "    \n",
    "    C) Represent this data as a dataframe in Pandas with the same columns as Postgres.\n",
    "    \n",
    "**NOTE**: Your answer should look like `q3fiii_str = ['A']` or `q3fiii_str = ['B']` or `q3fiii_str = ['C']` or `q3fiii_str = ['D']`\n"
   ]
  },
  {
   "cell_type": "code",
   "execution_count": 112,
   "metadata": {
    "tags": []
   },
   "outputs": [],
   "source": [
    "q3fiii_str = ['C']"
   ]
  },
  {
   "cell_type": "code",
   "execution_count": 113,
   "metadata": {
    "deletable": false,
    "editable": false
   },
   "outputs": [
    {
     "data": {
      "text/html": [
       "<p><strong><pre style='display: inline;'>q3fiii</pre></strong> passed! ✨</p>"
      ],
      "text/plain": [
       "q3fiii results: All test cases passed!"
      ]
     },
     "execution_count": 113,
     "metadata": {},
     "output_type": "execute_result"
    }
   ],
   "source": [
    "grader.check(\"q3fiii\")"
   ]
  },
  {
   "cell_type": "markdown",
   "metadata": {},
   "source": [
    "<hr style=\"border: 5px solid #003262;\" />\n",
    "<hr style=\"border: 1px solid #fdb515;\" />\n",
    "\n",
    "## Question 4: Messy JSON\n",
    "\n",
    "Many of the queries you've seen or written thus far were relatively reliable: aggregating and collecting over fields\n",
    "that you know exist for sure. But the nature of Mongo documents is that they are inherently flexible and semi-structured. Not every document will share every single field! In this question, we will explore how Mongo handles these use cases using the `business` collection.\n",
    "\n",
    "### Question 4a\n",
    "\n",
    "Imagine you are in charge of managing your family reunion. You would like to book a private room at a restaurant.\n",
    "However, you would also like to optimize for chaos. You notice that there is an attribute called `RestaurantsGoodForGroups`. You would like to write a query that returns all restaurants that **do not** have the `RestaurantsGoodForGroups` attribute so that the trajectory of the reunion is determined by fate (**hint:** search up the `$exists` keyword). \n",
    "\n",
    "How many restaurants do not have the `RestaurantsGoodForGroups` attribute? You may either enter input this as a function with respect to your query or hardcode in either the String or the numeric version of the answer you computed. Ensure that your output for the autograder is the **number of restaurants that do not have the `RestaurantsGoodForGroups` attribute** stored in `q4a_str` as an integer.\n",
    "\n",
    "**Note:** You would like this list to consist solely of restaurants. This means that the business must have `Restaurants` in the `categories` field. You may perform a similar text search as question 1d. Do not use `find` as this looks for *exact* matches.  **This holds true for the rest of the Question 4 as well!**\n",
    "\n"
   ]
  },
  {
   "cell_type": "code",
   "execution_count": 114,
   "metadata": {},
   "outputs": [
    {
     "name": "stdout",
     "output_type": "stream",
     "text": [
      "{'_id': ObjectId('6627cd6c7ff727a30de2d5f5'), 'categories': 'Gastropubs, Food, Beer Gardens, Restaurants, Bars, American (Traditional), Beer Bar, Nightlife, Breweries'}\n"
     ]
    }
   ],
   "source": [
    "print(business.find_one({'categories':{'$exists':True}}, {'categories'}))"
   ]
  },
  {
   "cell_type": "code",
   "execution_count": 115,
   "metadata": {
    "tags": []
   },
   "outputs": [],
   "source": [
    "# The following text index may be useful!\n",
    "if 'categories_text' not in business.index_information():\n",
    "    business.create_index([('categories', TEXT)])\n",
    "\n",
    "count = business.count_documents({\n",
    "    \"attributes.RestaurantsGoodForGroups\": {\"$exists\": False},\n",
    "    \"$text\": {\"$search\": \"Restaurants\"}\n",
    "})\n",
    "\n",
    "# Store the result in the specified format\n",
    "q4a_str = count"
   ]
  },
  {
   "cell_type": "code",
   "execution_count": 116,
   "metadata": {
    "tags": []
   },
   "outputs": [
    {
     "data": {
      "text/plain": [
       "8237"
      ]
     },
     "execution_count": 116,
     "metadata": {},
     "output_type": "execute_result"
    }
   ],
   "source": [
    "# Do not delete/edit this cell!\n",
    "# You must run this cell before running the autograder.\n",
    "grading_util.save_results(\"result_4a\", q4a_str)[0]"
   ]
  },
  {
   "cell_type": "code",
   "execution_count": 117,
   "metadata": {
    "deletable": false,
    "editable": false
   },
   "outputs": [
    {
     "data": {
      "text/html": [
       "<p><strong><pre style='display: inline;'>q4a</pre></strong> passed! ✨</p>"
      ],
      "text/plain": [
       "q4a results: All test cases passed!"
      ]
     },
     "execution_count": 117,
     "metadata": {},
     "output_type": "execute_result"
    }
   ],
   "source": [
    "grader.check(\"q4a\")"
   ]
  },
  {
   "cell_type": "markdown",
   "metadata": {},
   "source": [
    "<br>\n",
    "\n",
    "---\n",
    "### Question 4b\n",
    "\n",
    "Your relatives inform you that they would like to be at the restaurant when it opens to beat the crowds. Furthermore, after sending\n",
    "a when2meet, most of your relatives would prefer for the meal to be on a Friday and the start time of the meal to be \n",
    "between 5-6:59PM (17:00-18:59). Find the number of restaurants that open on Fridays between 17:00-18:59 (you only have to consider the first listed opening time!) and store this in a variable labeled `q4b_str`. As a reminder, in order for a business to be a restaurant, it must have `Restaurants` in its categories. Be aware that `hours` can either be an array or `None`!\n",
    "\n",
    "**Hint**: \n",
    "- Set up an aggregation pipeline using the `$set` and `$match` stage operators. You may also want to use the `$split` operator to parse out the Friday hours as an integer and then use comparison operators to find the restaurants that are open during the specified time. Note that using dot notation for array indexing in aggregation pipelines may not work as expected, so we recommend using `$arrayElemAt` operator.\n",
    "\n",
    "- Again as a reminder, you can set multiple conditions for a given field within the same object, e.g. `{\"$gte\": 0, \"$lte\": 10}`. This is the recommended approach, or else you may need to worry about the ordering between the conditions."
   ]
  },
  {
   "cell_type": "code",
   "execution_count": 118,
   "metadata": {
    "tags": []
   },
   "outputs": [],
   "source": [
    "pipeline = [\n",
    "    {\"$match\": {\"categories\": {\"$regex\": \"Restaurants\"}, \"hours\": {\"$exists\": True}, \"hours.Friday\": {\"$exists\": True}}},\n",
    "    {\"$set\": {\n",
    "        \"friday_open\": {\n",
    "            \"$arrayElemAt\": [\n",
    "                {\"$split\": [\"$hours.Friday\", \"-\"]}, 0  # Split hours by '-' and take the first element (opening time)\n",
    "            ]\n",
    "        }\n",
    "    }},\n",
    "    {\"$set\": {\n",
    "        \"friday_open_hour\": {\n",
    "            \"$convert\": {  # Safely convert the substring of the opening hour into an integer\n",
    "                \"input\": {\"$substrBytes\": [\"$friday_open\", 0, 2]},  # Extract the first two characters (hour part)\n",
    "                \"to\": \"int\",\n",
    "                \"onError\": \"Error\"  # Use \"Error\" to indicate conversion failures\n",
    "            }\n",
    "        }\n",
    "    }},\n",
    "    {\"$match\": {\n",
    "        \"friday_open_hour\": {\"$gte\": 17, \"$lte\": 19}  # Filter to match businesses opening between 17:00 and 18:59\n",
    "    }}\n",
    "]\n",
    "\n",
    "result = list(business.aggregate(pipeline))\n",
    "\n",
    "q4b_str = len(result)"
   ]
  },
  {
   "cell_type": "code",
   "execution_count": 119,
   "metadata": {
    "tags": []
   },
   "outputs": [
    {
     "data": {
      "text/plain": [
       "3425"
      ]
     },
     "execution_count": 119,
     "metadata": {},
     "output_type": "execute_result"
    }
   ],
   "source": [
    "# Do not delete/edit this cell!\n",
    "# You must run this cell before running the autograder.\n",
    "grading_util.save_results(\"result_4b\", q4b_str)[0]"
   ]
  },
  {
   "cell_type": "code",
   "execution_count": 120,
   "metadata": {
    "deletable": false,
    "editable": false
   },
   "outputs": [
    {
     "data": {
      "text/html": [
       "<p><strong><pre style='display: inline;'>q4b</pre></strong> passed! 🚀</p>"
      ],
      "text/plain": [
       "q4b results: All test cases passed!"
      ]
     },
     "execution_count": 120,
     "metadata": {},
     "output_type": "execute_result"
    }
   ],
   "source": [
    "grader.check(\"q4b\")"
   ]
  },
  {
   "cell_type": "markdown",
   "metadata": {},
   "source": [
    "<br>\n",
    "\n",
    "---\n",
    "### Question 4c\n",
    "\n",
    "Some members of your family are vegetarian so you would like to only eat at restaurants with the Vegetarian category. \n",
    "However, the `categories` are stored as a single string! You would like to make it easy to access Vegetarian as a separate field. Write a query that does the following: for every category in `categories`, add a new document that contains the `ObjectId` for the previous document (labeled `_id`), the name of the business (labeled `name`), and the category (labeled `category`).\n",
    "\n",
    "For example, a document \n",
    "```\n",
    "{\n",
    "    \"_id\": ObjectId('606ffb0123cf2e5079dbd91f'), \n",
    "    \"name\": \"Wendy's\", \n",
    "     ..., \n",
    "     categories\" : \"Salad, Vegetarian\"\n",
    "} \n",
    "```\n",
    "would become \n",
    "```\n",
    "{\n",
    "    \"_id\": ObjectId('606ffb0123cf2e5079dbd91f'), \n",
    "    \"name\": \"Wendy's\",\n",
    "    “category”: \"Salad\"\n",
    "}\n",
    "```\n",
    "and \n",
    "```\n",
    "{\n",
    "    \"_id\": ObjectId('606ffb0123cf2e5079dbd91f'), \n",
    "    \"name\": \"Wendy's\",\n",
    "    “category”: \"Vegetarian\"\n",
    "}\n",
    "```\n",
    "\n",
    "Finally, to ensure your output is consistent with the autograder, sort in ascending order by `name` and break ties on `category`. Save your pipeline to a variable called `q4c_pipeline`.\n",
    "\n",
    "**Hint:** The `$unwind` operator may be helpful here. You can find the documentation [here](https://www.mongodb.com/docs/manual/reference/operator/aggregation/unwind/). Be sure to check what object type `$unwind` operates on and watch out to make sure you don't have any unnecessary space in the `category` field."
   ]
  },
  {
   "cell_type": "code",
   "execution_count": 121,
   "metadata": {},
   "outputs": [
    {
     "name": "stdout",
     "output_type": "stream",
     "text": [
      "[{'_id': ObjectId('6627cd767ff727a30de35cc7'), 'categories': 'Restaurants, Street Vendors, Food, Asian Fusion, Food Trucks'}]\n"
     ]
    }
   ],
   "source": [
    "print(list(business.find({\"name\": \"Asian Fusion Bowl\"}, {\"categories\"})))\n"
   ]
  },
  {
   "cell_type": "code",
   "execution_count": 122,
   "metadata": {
    "scrolled": true,
    "tags": []
   },
   "outputs": [],
   "source": [
    "q4c_pipeline = [\n",
    "    {\"$match\": {\n",
    "        \"categories\": {\n",
    "            \"$regex\": \"Restaurant\",  # This regex will match 'Restaurant'\n",
    "            \"$options\": \"i\"  # Case-insensitive matching\n",
    "        }\n",
    "    }},\n",
    "    {\"$addFields\": {\n",
    "        \"categories_array\": {\"$split\": [\"$categories\", \", \"]}  # Split categories into an array\n",
    "    }},\n",
    "    {\"$unwind\": \"$categories_array\"},  # Unwind the array to process each category\n",
    "    {\"$project\": {\n",
    "        \"_id\": 1,\n",
    "        \"name\": 1,\n",
    "        \"category\": \"$categories_array\"\n",
    "    }},\n",
    "    {\"$sort\": {\n",
    "        \"name\": 1,  # Sort by name in ascending order\n",
    "        \"category\": 1  # Secondary sort by category in ascending order\n",
    "    }}\n",
    "]\n",
    "\n",
    "result_4c = list(business.aggregate(q4c_pipeline, allowDiskUse=True))"
   ]
  },
  {
   "cell_type": "code",
   "execution_count": 123,
   "metadata": {
    "tags": []
   },
   "outputs": [
    {
     "data": {
      "text/plain": [
       "[{'_id': ObjectId('6627cd767ff727a30de35cc7'),\n",
       "  'name': 'Asian Fusion Bowl',\n",
       "  'category': 'Street Vendors'},\n",
       " {'_id': ObjectId('6627cd997ff727a30de52057'),\n",
       "  'name': 'Asian Fusion Cafe',\n",
       "  'category': 'Asian Fusion'},\n",
       " {'_id': ObjectId('6627cd997ff727a30de52057'),\n",
       "  'name': 'Asian Fusion Cafe',\n",
       "  'category': 'Restaurants'},\n",
       " {'_id': ObjectId('6627cd8a7ff727a30de46026'),\n",
       "  'name': 'Asian Garden',\n",
       "  'category': 'American (Traditional)'},\n",
       " {'_id': ObjectId('6627cd8a7ff727a30de46026'),\n",
       "  'name': 'Asian Garden',\n",
       "  'category': 'Asian Fusion'},\n",
       " {'_id': ObjectId('6627cd747ff727a30de34635'),\n",
       "  'name': 'Asian Garden',\n",
       "  'category': 'Chinese'},\n",
       " {'_id': ObjectId('6627cd7b7ff727a30de3a693'),\n",
       "  'name': 'Asian Garden',\n",
       "  'category': 'Chinese'},\n",
       " {'_id': ObjectId('6627cd747ff727a30de34635'),\n",
       "  'name': 'Asian Garden',\n",
       "  'category': 'Korean'},\n",
       " {'_id': ObjectId('6627cd747ff727a30de34635'),\n",
       "  'name': 'Asian Garden',\n",
       "  'category': 'Restaurants'},\n",
       " {'_id': ObjectId('6627cd7b7ff727a30de3a693'),\n",
       "  'name': 'Asian Garden',\n",
       "  'category': 'Restaurants'}]"
      ]
     },
     "execution_count": 123,
     "metadata": {},
     "output_type": "execute_result"
    }
   ],
   "source": [
    "result_4c[10000:10010]"
   ]
  },
  {
   "cell_type": "code",
   "execution_count": 124,
   "metadata": {
    "tags": []
   },
   "outputs": [],
   "source": [
    "# Do not delete/edit this cell!\n",
    "# You must run this cell before running the autograder.\n",
    "result_4c = list(business.aggregate(q4c_pipeline, allowDiskUse=True))[10000:10050]\n",
    "grading_util.save_results(\"result_4c\", result_4c);"
   ]
  },
  {
   "cell_type": "code",
   "execution_count": 125,
   "metadata": {
    "deletable": false,
    "editable": false,
    "scrolled": true
   },
   "outputs": [
    {
     "data": {
      "text/html": [
       "<p><strong><pre style='display: inline;'>q4c</pre></strong> passed! 🙌</p>"
      ],
      "text/plain": [
       "q4c results: All test cases passed!"
      ]
     },
     "execution_count": 125,
     "metadata": {},
     "output_type": "execute_result"
    }
   ],
   "source": [
    "grader.check(\"q4c\")"
   ]
  },
  {
   "cell_type": "markdown",
   "metadata": {},
   "source": [
    "<br>\n",
    "\n",
    "---\n",
    "### Question 4d\n",
    "This change in representation has made it super easy to view all the vegetarian restaurants and count them without the use of an index since we can now simply filter by whether or not 'Vegetarian' is a field in our document! We have provided some code here to count how many vegetarian restaurants are in our dataset. Simply provide the integer count to get a point for this question :)"
   ]
  },
  {
   "cell_type": "code",
   "execution_count": 126,
   "metadata": {
    "tags": []
   },
   "outputs": [],
   "source": [
    "q4d_pipeline = q4c_pipeline[:]\n",
    "q4d_pipeline.append({\"$match\": {\"category\": 'Vegetarian'}})\n",
    "result_4d = list(business.aggregate(q4d_pipeline))\n",
    "\n",
    "veg_count = len(result_4d)"
   ]
  },
  {
   "cell_type": "code",
   "execution_count": 127,
   "metadata": {
    "tags": []
   },
   "outputs": [
    {
     "data": {
      "text/plain": [
       "1482"
      ]
     },
     "execution_count": 127,
     "metadata": {},
     "output_type": "execute_result"
    }
   ],
   "source": [
    "# Do not delete/edit this cell!\n",
    "# You must run this cell before running the autograder.\n",
    "grading_util.save_results(\"result_4d\", veg_count)[0]"
   ]
  },
  {
   "cell_type": "code",
   "execution_count": 128,
   "metadata": {
    "deletable": false,
    "editable": false
   },
   "outputs": [
    {
     "data": {
      "text/html": [
       "<p><strong><pre style='display: inline;'>q4d</pre></strong> passed! 💯</p>"
      ],
      "text/plain": [
       "q4d results: All test cases passed!"
      ]
     },
     "execution_count": 128,
     "metadata": {},
     "output_type": "execute_result"
    }
   ],
   "source": [
    "grader.check(\"q4d\")"
   ]
  },
  {
   "cell_type": "markdown",
   "metadata": {},
   "source": [
    "## Congratulations! You have finished Project 4.\n",
    "\n",
    "Run the following cell to zip and download the results of your queries. You will also need to run the export cell at the end of the notebook.\n",
    "\n",
    "**Please save your notebook before exporting (this is a good time to do it!)** Otherwise, we may not be able to export your written responses to `proj4.pdf`. We will not be accepting regrade requests for failure to render written responses.\n",
    "\n",
    "**For your submission on Gradescope, you will only need to submit the single `proj4.zip` file generated by the export cell.** Please ensure that your submission `proj4.zip` file includes `proj4.pdf`, `proj4.ipynb`, and `results.zip`. \n",
    "\n",
    "**Please ensure that public tests pass upon submission.** It is your responsibility to wait until the autograder finishes running. We will not be accepting regrade requests for submission issues.\n",
    "\n",
    "**Common submission issues:** You MUST submit the generated zip file to the autograder. However, Safari is known to automatically unzip files upon downloading. You can fix this by going into Safari preferences, and deselect the box with the text \"Open safe files after downloading\" under the \"General\" tab. If you experience issues with downloading via clicking on the link, you can also navigate to the project 3 directory within JupyterHub (remove `proj4.ipynb` from the url), and manually download the generated zip files. Please post on Ed if you encounter any other submission issues.\n",
    "\n",
    "Run the following cell to zip and download the results of your queries. You will also need to run the export cell at the end of the notebook."
   ]
  },
  {
   "cell_type": "code",
   "execution_count": 47,
   "metadata": {},
   "outputs": [],
   "source": [
    "grading_util.prepare_submission_and_cleanup()"
   ]
  },
  {
   "cell_type": "markdown",
   "metadata": {
    "deletable": false,
    "editable": false
   },
   "source": [
    "---\n",
    "\n",
    "To double-check your work, the cell below will rerun all of the autograder tests."
   ]
  },
  {
   "cell_type": "code",
   "execution_count": 48,
   "metadata": {
    "deletable": false,
    "editable": false
   },
   "outputs": [
    {
     "data": {
      "text/plain": [
       "q1a results: All test cases passed!\n",
       "\n",
       "q1b results: All test cases passed!\n",
       "\n",
       "q1c results: All test cases passed!\n",
       "\n",
       "q1d results: All test cases passed!\n",
       "\n",
       "q1e results: All test cases passed!\n",
       "\n",
       "q1f results: All test cases passed!\n",
       "\n",
       "q2b results: All test cases passed!\n",
       "\n",
       "q2c results: All test cases passed!\n",
       "\n",
       "q3b results: All test cases passed!\n",
       "\n",
       "q3c results: All test cases passed!\n",
       "\n",
       "q3d results:\n",
       "    q3d - 1 result:\n",
       "        ❌ Test case failed\n",
       "        Trying:\n",
       "            result_q3d >= 1 and result_q3d <= 58\n",
       "        Expecting:\n",
       "            True\n",
       "        **********************************************************************\n",
       "        Line 1, in q3d 0\n",
       "        Failed example:\n",
       "            result_q3d >= 1 and result_q3d <= 58\n",
       "        Exception raised:\n",
       "            Traceback (most recent call last):\n",
       "              File \"/srv/conda/envs/notebook/lib/python3.11/doctest.py\", line 1350, in __run\n",
       "                exec(compile(example.source, filename, \"single\",\n",
       "              File \"<doctest q3d 0[0]>\", line 1, in <module>\n",
       "                result_q3d >= 1 and result_q3d <= 58\n",
       "                ^^^^^^^^^^\n",
       "            NameError: name 'result_q3d' is not defined\n",
       "\n",
       "q3e results: All test cases passed!\n",
       "\n",
       "q3fi results:\n",
       "    q3fi - 1 result:\n",
       "        ❌ Test case failed\n",
       "        Trying:\n",
       "            len(q3fi_str) and ord(q3fi_str[0]) >= 65 and ord(q3fi_str[0]) <= 67\n",
       "        Expecting:\n",
       "            True\n",
       "        **********************************************************************\n",
       "        Line 1, in q3fi 0\n",
       "        Failed example:\n",
       "            len(q3fi_str) and ord(q3fi_str[0]) >= 65 and ord(q3fi_str[0]) <= 67\n",
       "        Exception raised:\n",
       "            Traceback (most recent call last):\n",
       "              File \"/srv/conda/envs/notebook/lib/python3.11/doctest.py\", line 1350, in __run\n",
       "                exec(compile(example.source, filename, \"single\",\n",
       "              File \"<doctest q3fi 0[0]>\", line 1, in <module>\n",
       "                len(q3fi_str) and ord(q3fi_str[0]) >= 65 and ord(q3fi_str[0]) <= 67\n",
       "                    ^^^^^^^^\n",
       "            NameError: name 'q3fi_str' is not defined\n",
       "\n",
       "q3fii results:\n",
       "    q3fii - 1 result:\n",
       "        ❌ Test case failed\n",
       "        Trying:\n",
       "            len(q3fii_str) and ord(q3fii_str[0]) >= 65 and ord(q3fii_str[0]) <= 67\n",
       "        Expecting:\n",
       "            True\n",
       "        **********************************************************************\n",
       "        Line 1, in q3fii 0\n",
       "        Failed example:\n",
       "            len(q3fii_str) and ord(q3fii_str[0]) >= 65 and ord(q3fii_str[0]) <= 67\n",
       "        Exception raised:\n",
       "            Traceback (most recent call last):\n",
       "              File \"/srv/conda/envs/notebook/lib/python3.11/doctest.py\", line 1350, in __run\n",
       "                exec(compile(example.source, filename, \"single\",\n",
       "              File \"<doctest q3fii 0[0]>\", line 1, in <module>\n",
       "                len(q3fii_str) and ord(q3fii_str[0]) >= 65 and ord(q3fii_str[0]) <= 67\n",
       "                    ^^^^^^^^^\n",
       "            NameError: name 'q3fii_str' is not defined\n",
       "\n",
       "q3fiii results:\n",
       "    q3fiii - 1 result:\n",
       "        ❌ Test case failed\n",
       "        Trying:\n",
       "            len(q3fiii_str) and ord(q3fiii_str[0]) >= 65 and ord(q3fiii_str[0]) <= 67\n",
       "        Expecting:\n",
       "            True\n",
       "        **********************************************************************\n",
       "        Line 1, in q3fiii 0\n",
       "        Failed example:\n",
       "            len(q3fiii_str) and ord(q3fiii_str[0]) >= 65 and ord(q3fiii_str[0]) <= 67\n",
       "        Exception raised:\n",
       "            Traceback (most recent call last):\n",
       "              File \"/srv/conda/envs/notebook/lib/python3.11/doctest.py\", line 1350, in __run\n",
       "                exec(compile(example.source, filename, \"single\",\n",
       "              File \"<doctest q3fiii 0[0]>\", line 1, in <module>\n",
       "                len(q3fiii_str) and ord(q3fiii_str[0]) >= 65 and ord(q3fiii_str[0]) <= 67\n",
       "                    ^^^^^^^^^^\n",
       "            NameError: name 'q3fiii_str' is not defined\n",
       "\n",
       "q4a results: All test cases passed!\n",
       "\n",
       "q4b results: All test cases passed!\n",
       "\n",
       "q4c results: All test cases passed!\n",
       "\n",
       "q4d results: All test cases passed!"
      ]
     },
     "execution_count": 48,
     "metadata": {},
     "output_type": "execute_result"
    }
   ],
   "source": [
    "grader.check_all()"
   ]
  },
  {
   "cell_type": "markdown",
   "metadata": {
    "deletable": false,
    "editable": false
   },
   "source": [
    "## Submission\n",
    "\n",
    "Make sure you have run all cells in your notebook in order before running the cell below, so that all images/graphs appear in the output. The cell below will generate a zip file for you to submit. **Please save before exporting!**"
   ]
  },
  {
   "cell_type": "code",
   "execution_count": 49,
   "metadata": {
    "deletable": false,
    "editable": false
   },
   "outputs": [
    {
     "name": "stderr",
     "output_type": "stream",
     "text": [
      "/srv/conda/envs/notebook/lib/python3.11/site-packages/nbconvert/utils/pandoc.py:51: RuntimeWarning: You are using an unsupported version of pandoc (2.12).\n",
      "Your version must be at least (2.14.2) but less than (4.0.0).\n",
      "Refer to https://pandoc.org/installing.html.\n",
      "Continuing with doubts...\n",
      "  check_pandoc_version()\n"
     ]
    },
    {
     "data": {
      "text/html": [
       "\n",
       "                    <p>\n",
       "                        Your submission has been exported. Click\n",
       "                        <a href=\"proj4_2024_04_24T09_08_51_015958.zip\" download=\"proj4_2024_04_24T09_08_51_015958.zip\" target=\"_blank\">here</a> to download\n",
       "                        the zip file.\n",
       "                    </p>\n",
       "                "
      ],
      "text/plain": [
       "<IPython.core.display.HTML object>"
      ]
     },
     "metadata": {},
     "output_type": "display_data"
    }
   ],
   "source": [
    "# Save your notebook first, then run this cell to export your submission.\n",
    "grader.export(files=['results.zip'])"
   ]
  },
  {
   "cell_type": "markdown",
   "metadata": {},
   "source": [
    " "
   ]
  }
 ],
 "metadata": {
  "kernelspec": {
   "display_name": "Python 3 (ipykernel)",
   "language": "python",
   "name": "python3"
  },
  "language_info": {
   "codemirror_mode": {
    "name": "ipython",
    "version": 3
   },
   "file_extension": ".py",
   "mimetype": "text/x-python",
   "name": "python",
   "nbconvert_exporter": "python",
   "pygments_lexer": "ipython3",
   "version": "3.11.0"
  },
  "otter": {
   "OK_FORMAT": true,
   "tests": {
    "q1a": {
     "name": "q1a",
     "points": 1,
     "suites": [
      {
       "cases": [
        {
         "code": ">>> question_1a_str = grading_util.load_results(\"result_1a\")[0]\n>>> \"-\" in question_1a_str and \":\" in question_1a_str\nTrue",
         "hidden": false,
         "locked": false
        }
       ],
       "scored": true,
       "setup": "",
       "teardown": "",
       "type": "doctest"
      }
     ]
    },
    "q1b": {
     "name": "q1b",
     "points": 1,
     "suites": [
      {
       "cases": [
        {
         "code": ">>> question_1b_str = grading_util.load_results(\"result_1b\")[0]\n>>> question_1b_str >= 3 and question_1b_str <= 4.5\nTrue",
         "hidden": false,
         "locked": false
        }
       ],
       "scored": true,
       "setup": "",
       "teardown": "",
       "type": "doctest"
      }
     ]
    },
    "q1c": {
     "name": "q1c",
     "points": 2,
     "suites": [
      {
       "cases": [
        {
         "code": ">>> cur_test_1c = grading_util.load_results(\"result_1c\")[0]\n>>> len(cur_test_1c) == 31\nTrue",
         "hidden": false,
         "locked": false
        }
       ],
       "scored": true,
       "setup": "",
       "teardown": "",
       "type": "doctest"
      }
     ]
    },
    "q1d": {
     "name": "q1d",
     "points": 1,
     "suites": [
      {
       "cases": [
        {
         "code": ">>> question_1d_str = grading_util.load_results(\"result_1d\")[0]\n>>> question_1d_str >= 700 and question_1d_str <= 800\nTrue",
         "hidden": false,
         "locked": false
        }
       ],
       "scored": true,
       "setup": "",
       "teardown": "",
       "type": "doctest"
      }
     ]
    },
    "q1e": {
     "name": "q1e",
     "points": 2,
     "suites": [
      {
       "cases": [
        {
         "code": ">>> review_boolean_ans_1e = len(grading_util.load_results(\"result_1e\")[0])\n>>> review_boolean_ans_1e == 7500\nTrue",
         "hidden": false,
         "locked": false
        }
       ],
       "scored": true,
       "setup": "",
       "teardown": "",
       "type": "doctest"
      }
     ]
    },
    "q1f": {
     "name": "q1f",
     "points": 1,
     "suites": [
      {
       "cases": [
        {
         "code": ">>> difference = grading_util.load_results(\"result_1f\")[0]\n>>> 0 < difference <= 300000\nTrue",
         "hidden": false,
         "locked": false
        }
       ],
       "scored": true,
       "setup": "",
       "teardown": "",
       "type": "doctest"
      }
     ]
    },
    "q2b": {
     "name": "q2b",
     "points": 1,
     "suites": [
      {
       "cases": [
        {
         "code": ">>> query_2b, result_2b_df = grading_util.load_results(\"result_2b\")\n>>> result_2b_df.iloc[0, 0] == '000bviMESLXmlIFKDzCEfw'\nTrue",
         "hidden": false,
         "locked": false
        },
        {
         "code": ">>> query_2b, result_2b_df = grading_util.load_results(\"result_2b\")\n>>> str(result_2b_df.iloc[8, 3]) == '5.0'\nTrue",
         "hidden": false,
         "locked": false
        }
       ],
       "scored": true,
       "setup": "",
       "teardown": "",
       "type": "doctest"
      }
     ]
    },
    "q2c": {
     "name": "q2c",
     "points": 1,
     "suites": [
      {
       "cases": [
        {
         "code": ">>> cur_test_2c = grading_util.load_results(\"result_2c\")[0]\n>>> 'business_info' in list(cur_test_2c[0].keys())\nTrue",
         "hidden": false,
         "locked": false
        }
       ],
       "scored": true,
       "setup": "",
       "teardown": "",
       "type": "doctest"
      }
     ]
    },
    "q3b": {
     "name": "q3b",
     "points": 1,
     "suites": [
      {
       "cases": [
        {
         "code": ">>> result_3b_df = grading_util.load_results(\"result_3b\")[0]\n>>> result_3b_df.shape == (50, 3)\nTrue",
         "hidden": false,
         "locked": false
        }
       ],
       "scored": true,
       "setup": "",
       "teardown": "",
       "type": "doctest"
      }
     ]
    },
    "q3c": {
     "name": "q3c",
     "points": 1,
     "suites": [
      {
       "cases": [
        {
         "code": ">>> result_3c_df = grading_util.load_results(\"result_3c\")[0]\n>>> list(result_3c_df.loc[result_3c_df['column_name'] == '_id'][\"percent_missing\"])[0] == 0\nTrue",
         "hidden": false,
         "locked": false
        }
       ],
       "scored": true,
       "setup": "",
       "teardown": "",
       "type": "doctest"
      }
     ]
    },
    "q3d": {
     "name": "q3d",
     "points": 1,
     "suites": [
      {
       "cases": [
        {
         "code": ">>> result_q3d >= 1 and result_q3d <= 58\nTrue",
         "hidden": false,
         "locked": false
        }
       ],
       "scored": true,
       "setup": "",
       "teardown": "",
       "type": "doctest"
      }
     ]
    },
    "q3e": {
     "name": "q3e",
     "points": 1,
     "suites": [
      {
       "cases": [
        {
         "code": ">>> result_3e_df = grading_util.load_results(\"result_3e\")[0]\n>>> len(result_3e_df) == 1000 and len(result_3e_df.columns) != 58\nTrue",
         "hidden": false,
         "locked": false
        }
       ],
       "scored": true,
       "setup": "",
       "teardown": "",
       "type": "doctest"
      }
     ]
    },
    "q3fi": {
     "name": "q3fi",
     "points": 1,
     "suites": [
      {
       "cases": [
        {
         "code": ">>> len(q3fi_str) and ord(q3fi_str[0]) >= 65 and ord(q3fi_str[0]) <= 67\nTrue",
         "hidden": false,
         "locked": false
        }
       ],
       "scored": true,
       "setup": "",
       "teardown": "",
       "type": "doctest"
      }
     ]
    },
    "q3fii": {
     "name": "q3fii",
     "points": 1,
     "suites": [
      {
       "cases": [
        {
         "code": ">>> len(q3fii_str) and ord(q3fii_str[0]) >= 65 and ord(q3fii_str[0]) <= 67\nTrue",
         "hidden": false,
         "locked": false
        }
       ],
       "scored": true,
       "setup": "",
       "teardown": "",
       "type": "doctest"
      }
     ]
    },
    "q3fiii": {
     "name": "q3fiii",
     "points": 1,
     "suites": [
      {
       "cases": [
        {
         "code": ">>> len(q3fiii_str) and ord(q3fiii_str[0]) >= 65 and ord(q3fiii_str[0]) <= 67\nTrue",
         "hidden": false,
         "locked": false
        }
       ],
       "scored": true,
       "setup": "",
       "teardown": "",
       "type": "doctest"
      }
     ]
    },
    "q4a": {
     "name": "q4a",
     "points": 1,
     "suites": [
      {
       "cases": [
        {
         "code": ">>> q4a_str = grading_util.load_results(\"result_4a\")[0]\n>>> int(q4a_str) >= 0 and int(q4a_str) <= 10000\nTrue",
         "hidden": false,
         "locked": false
        }
       ],
       "scored": true,
       "setup": "",
       "teardown": "",
       "type": "doctest"
      }
     ]
    },
    "q4b": {
     "name": "q4b",
     "points": 2,
     "suites": [
      {
       "cases": [
        {
         "code": ">>> q4b_str = grading_util.load_results(\"result_4b\")[0]\n>>> int(q4b_str) >= 3000 and int(q4b_str) <= 4000\nTrue",
         "hidden": false,
         "locked": false
        }
       ],
       "scored": true,
       "setup": "",
       "teardown": "",
       "type": "doctest"
      }
     ]
    },
    "q4c": {
     "name": "q4c",
     "points": 2,
     "suites": [
      {
       "cases": [
        {
         "code": ">>> cur_test_4c = grading_util.load_results(\"result_4c\")[0]\n>>> cur_test_4c[0]['name'] == 'Asian Fusion Bowl' and cur_test_4c[0]['category'] == 'Street Vendors'\nTrue",
         "hidden": false,
         "locked": false
        }
       ],
       "scored": true,
       "setup": "",
       "teardown": "",
       "type": "doctest"
      }
     ]
    },
    "q4d": {
     "name": "q4d",
     "points": 1,
     "suites": [
      {
       "cases": [
        {
         "code": ">>> veg_count = q4b_str = grading_util.load_results(\"result_4d\")[0]\n>>> veg_count > 0 and veg_count < 2000\nTrue",
         "hidden": false,
         "locked": false
        }
       ],
       "scored": true,
       "setup": "",
       "teardown": "",
       "type": "doctest"
      }
     ]
    }
   }
  }
 },
 "nbformat": 4,
 "nbformat_minor": 4
}
